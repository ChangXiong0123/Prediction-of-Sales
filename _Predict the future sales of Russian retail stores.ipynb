{
 "cells": [
  {
   "cell_type": "markdown",
   "metadata": {},
   "source": [
    "# Predict the future sales of Russian retail stores\n",
    "\n",
    "### by Anna"
   ]
  },
  {
   "cell_type": "code",
   "execution_count": 43,
   "metadata": {},
   "outputs": [],
   "source": [
    "import os\n",
    "import glob\n",
    "\n",
    "import numpy as np\n",
    "import pandas as pd\n",
    "\n",
    "import warnings\n",
    "warnings.filterwarnings(\"ignore\")\n",
    "\n",
    "from itertools import product\n",
    "\n",
    "\n",
    "#plot\n",
    "%matplotlib inline\n",
    "import matplotlib.pyplot as plt\n",
    "import plotly.express as px\n",
    "import seaborn as sns\n",
    "\n",
    "\n",
    "\n",
    "#import sklearn\n",
    "from sklearn.preprocessing import LabelEncoder\n",
    "from sklearn import ensemble, metrics\n",
    "from sklearn import linear_model, preprocessing\n",
    "from sklearn.model_selection import GroupKFold\n",
    "import lightgbm as lgb\n",
    "\n",
    "# datetime\n",
    "from datetime import datetime, timedelta,date\n",
    "\n",
    "\n",
    "from collections import Counter\n",
    "from operator import itemgetter\n",
    "\n",
    "from googletrans import Translator\n",
    "translator = Translator()"
   ]
  },
  {
   "cell_type": "markdown",
   "metadata": {},
   "source": [
    "## 1. Import data\n",
    "\n",
    "Use function to retrevie the data in one directory and store them in dictonary to better control the datasets."
   ]
  },
  {
   "cell_type": "code",
   "execution_count": 52,
   "metadata": {},
   "outputs": [],
   "source": [
    "path = 'C:/Users/chang/Documents/EY/Dataset/Dataset/'\n",
    "\n",
    "def path_leaf(path):\n",
    "    return path.strip('/').strip('\\\\').split('/')[-1].split('\\\\')[-1]\n",
    "\n",
    "allFiles = glob.glob(os.path.join(path, \"*.csv\"))\n",
    "dict_data = {}#use dictionary here to store the multiple dataframes\n",
    "\n",
    "for file_ in allFiles:\n",
    "    df_name = path_leaf(file_).replace(\".csv\", \"\")\n",
    "    df = pd.read_csv(file_, index_col=None, header=0)\n",
    "    df.name = df_name\n",
    "    dict_data[df_name] = df"
   ]
  },
  {
   "cell_type": "code",
   "execution_count": 4,
   "metadata": {},
   "outputs": [
    {
     "name": "stdout",
     "output_type": "stream",
     "text": [
      "All Accessible Datasets: \n",
      "  items\n",
      "  item_categories\n",
      "  sales_train\n",
      "  shops\n",
      "  test\n"
     ]
    }
   ],
   "source": [
    "print(\"All Accessible Datasets: \")\n",
    "for k in dict_data.keys():\n",
    "    print (\" \",k)"
   ]
  },
  {
   "cell_type": "markdown",
   "metadata": {},
   "source": [
    "## 2. Prepocess and Understand the Datasets\n",
    "\n",
    "### 2.1 Clean data"
   ]
  },
  {
   "cell_type": "code",
   "execution_count": 5,
   "metadata": {},
   "outputs": [
    {
     "name": "stdout",
     "output_type": "stream",
     "text": [
      "------------------Train dataset information ----------------------------\n",
      "<class 'pandas.core.frame.DataFrame'>\n",
      "RangeIndex: 2935849 entries, 0 to 2935848\n",
      "Data columns (total 6 columns):\n",
      "date              object\n",
      "date_block_num    int64\n",
      "shop_id           int64\n",
      "item_id           int64\n",
      "item_price        float64\n",
      "item_cnt_day      float64\n",
      "dtypes: float64(2), int64(3), object(1)\n",
      "memory usage: 134.4+ MB\n",
      "\n",
      "--------------Train dataset information after downcasting--------------\n",
      "<class 'pandas.core.frame.DataFrame'>\n",
      "RangeIndex: 2935849 entries, 0 to 2935848\n",
      "Data columns (total 6 columns):\n",
      "date              object\n",
      "date_block_num    int16\n",
      "shop_id           int16\n",
      "item_id           int16\n",
      "item_price        float32\n",
      "item_cnt_day      float32\n",
      "dtypes: float32(2), int16(3), object(1)\n",
      "memory usage: 61.6+ MB\n",
      "None\n"
     ]
    }
   ],
   "source": [
    "train = dict_data['sales_train'].copy()\n",
    "items = dict_data['items'].copy()\n",
    "categories = dict_data['item_categories'].copy()\n",
    "shops =  dict_data['shops'].copy()\n",
    "test =  dict_data['test'].copy()\n",
    "\n",
    "\n",
    "print(\"------------------Train dataset information ----------------------------\")\n",
    "train.info()\n",
    "\n",
    "\n",
    "#downcaste the DataFrame to save memory\n",
    "def downcast_dtypes(df):\n",
    "    float_cols = [c for c in df if df[c].dtype == \"float64\"]\n",
    "    int_cols = [c for c in df if df[c].dtype in [\"int64\", \"int32\"]]\n",
    "    df[float_cols] = df[float_cols].astype(np.float32)\n",
    "    df[int_cols] = df[int_cols].astype(np.int16)\n",
    "    return df\n",
    "\n",
    "train = downcast_dtypes(train)\n",
    "\n",
    "\n",
    "print(\"\")\n",
    "print(\"--------------Train dataset information after downcasting--------------\")\n",
    "print(train.info())"
   ]
  },
  {
   "cell_type": "code",
   "execution_count": 6,
   "metadata": {},
   "outputs": [
    {
     "name": "stdout",
     "output_type": "stream",
     "text": [
      "----------Missing value-----------\n",
      "date              0\n",
      "date_block_num    0\n",
      "shop_id           0\n",
      "item_id           0\n",
      "item_price        0\n",
      "item_cnt_day      0\n",
      "dtype: int64\n",
      "----------Null value--------------\n",
      "date              0\n",
      "date_block_num    0\n",
      "shop_id           0\n",
      "item_id           0\n",
      "item_price        0\n",
      "item_cnt_day      0\n",
      "dtype: int64\n",
      "-------------Other----------------\n",
      "shape of data: (2935849, 6)\n",
      "Number of duplicates: 6\n"
     ]
    }
   ],
   "source": [
    "print(\"----------Missing value-----------\")\n",
    "print(train.isnull().sum())\n",
    "print(\"----------Null value--------------\")\n",
    "print(train.isna().sum())\n",
    "print(\"-------------Other----------------\")\n",
    "print(\"shape of data:\", train.shape)\n",
    "print('Number of duplicates:', len(train[train.duplicated()]))"
   ]
  },
  {
   "cell_type": "markdown",
   "metadata": {},
   "source": [
    "We have no missing or null values, however, we need to deal with the duplicates here"
   ]
  },
  {
   "cell_type": "markdown",
   "metadata": {},
   "source": [
    "##### Duplicates"
   ]
  },
  {
   "cell_type": "code",
   "execution_count": 7,
   "metadata": {},
   "outputs": [
    {
     "name": "stdout",
     "output_type": "stream",
     "text": [
      "False    2935825\n",
      "True          24\n",
      "dtype: int64\n"
     ]
    }
   ],
   "source": [
    "# drop duplicates\n",
    "subset = ['date','date_block_num','shop_id','item_id','item_cnt_day']\n",
    "print(train.duplicated(subset=subset).value_counts())\n",
    "train.drop_duplicates(subset=subset, inplace=True)"
   ]
  },
  {
   "cell_type": "markdown",
   "metadata": {},
   "source": [
    "##### Outlinears"
   ]
  },
  {
   "cell_type": "code",
   "execution_count": 8,
   "metadata": {},
   "outputs": [
    {
     "name": "stdout",
     "output_type": "stream",
     "text": [
      "Total Month number: 34\n",
      "------------Daily Sales Description----------\n",
      "count    2.935825e+06\n",
      "mean     1.242643e+00\n",
      "std      2.612224e+00\n",
      "min     -2.200000e+01\n",
      "25%      1.000000e+00\n",
      "50%      1.000000e+00\n",
      "75%      1.000000e+00\n",
      "max      2.169000e+03\n",
      "Name: item_cnt_day, dtype: float64\n",
      "------------Item Price Description----------\n",
      "count    2.935825e+06\n",
      "mean     8.906257e+02\n",
      "std      1.726446e+03\n",
      "min     -1.000000e+00\n",
      "25%      2.490000e+02\n",
      "50%      3.990000e+02\n",
      "75%      9.990000e+02\n",
      "max      3.079800e+05\n",
      "Name: item_price, dtype: float64\n"
     ]
    }
   ],
   "source": [
    "print(\"Total Month number:\", train['date_block_num'].max()+1)\n",
    "print(\"------------Daily Sales Description----------\")\n",
    "print(train['item_cnt_day'].describe())\n",
    "print(\"------------Item Price Description----------\")\n",
    "print(train['item_price'].describe())"
   ]
  },
  {
   "cell_type": "markdown",
   "metadata": {},
   "source": [
    "#### After the initial check of dataset, we need to take a look into the data in detail in order to decide the best way to safely handle all the outliners, missing values, abnormal values.\n",
    "\n",
    "1.Obviously we will have outliner and abnoarmal values here.Daily Sales maximum is 2169, but the mean value is 1.24. The maximum price is 307980, and price have minimum value of -1, which is highly likely an error here. \n",
    "\n",
    "2.We check with each value we want to delete or fill with, safely draw the conclusion how should we handle them."
   ]
  },
  {
   "cell_type": "code",
   "execution_count": 9,
   "metadata": {},
   "outputs": [
    {
     "name": "stdout",
     "output_type": "stream",
     "text": [
      "Sale volume outliers: [ 8057 20949  9242 19437  3731 11373  9249  9248]\n",
      "Item price outliers: [11365  6066 13199]\n"
     ]
    },
    {
     "data": {
      "image/png": "[encoded data removed]",
      "text/plain": [
       "<Figure size 720x288 with 1 Axes>"
      ]
     },
     "metadata": {
      "needs_background": "light"
     },
     "output_type": "display_data"
    },
    {
     "data": {
      "image/png": "[encoded data removed]",
      "text/plain": [
       "<Figure size 720x288 with 1 Axes>"
      ]
     },
     "metadata": {
      "needs_background": "light"
     },
     "output_type": "display_data"
    }
   ],
   "source": [
    "plt.figure(figsize=(10,4))\n",
    "plt.xlim(-100, 3000)\n",
    "sns.boxplot(x=train['item_cnt_day'])\n",
    "print('Sale volume outliers:',train['item_id'][train['item_cnt_day']>500].unique())\n",
    "\n",
    "\n",
    "plt.figure(figsize=(10,4))\n",
    "plt.xlim(train['item_price'].min(), train['item_price'].max())\n",
    "sns.boxplot(x=train['item_price'])\n",
    "print('Item price outliers:',train['item_id'][train['item_price']>50000].unique())"
   ]
  },
  {
   "cell_type": "markdown",
   "metadata": {},
   "source": [
    "Let's check for the outliners and abnormal values and decide how to deal with them"
   ]
  },
  {
   "cell_type": "code",
   "execution_count": 10,
   "metadata": {},
   "outputs": [
    {
     "data": {
      "text/html": [
       "<div>\n",
       "<style scoped>\n",
       "    .dataframe tbody tr th:only-of-type {\n",
       "        vertical-align: middle;\n",
       "    }\n",
       "\n",
       "    .dataframe tbody tr th {\n",
       "        vertical-align: top;\n",
       "    }\n",
       "\n",
       "    .dataframe thead th {\n",
       "        text-align: right;\n",
       "    }\n",
       "</style>\n",
       "<table border=\"1\" class=\"dataframe\">\n",
       "  <thead>\n",
       "    <tr style=\"text-align: right;\">\n",
       "      <th></th>\n",
       "      <th>item_name</th>\n",
       "      <th>item_id</th>\n",
       "      <th>item_category_id</th>\n",
       "    </tr>\n",
       "  </thead>\n",
       "  <tbody>\n",
       "    <tr>\n",
       "      <th>11373</th>\n",
       "      <td>Доставка до пункта выдачи (Boxberry)</td>\n",
       "      <td>11373</td>\n",
       "      <td>9</td>\n",
       "    </tr>\n",
       "  </tbody>\n",
       "</table>\n",
       "</div>"
      ],
      "text/plain": [
       "                                  item_name  item_id  item_category_id\n",
       "11373  Доставка до пункта выдачи (Boxberry)    11373                 9"
      ]
     },
     "execution_count": 10,
     "metadata": {},
     "output_type": "execute_result"
    }
   ],
   "source": [
    "train[train['item_cnt_day'] == 2169]\n",
    "items[items['item_id'] == 11373]"
   ]
  },
  {
   "cell_type": "markdown",
   "metadata": {},
   "source": [
    "This item is related to point of delivery and the Russian shipment company 'Boxberry' by translation. Let's look at some of the other daiy sales for this item.\n",
    "\n",
    "We can see that item 11373 usually has sells much less. We should get rid of it."
   ]
  },
  {
   "cell_type": "code",
   "execution_count": 11,
   "metadata": {},
   "outputs": [
    {
     "data": {
      "text/plain": [
       "1163158    307980.0\n",
       "885138      59200.0\n",
       "1488135     50999.0\n",
       "2327159     49782.0\n",
       "2931380     42990.0\n",
       "Name: item_price, dtype: float32"
      ]
     },
     "execution_count": 11,
     "metadata": {},
     "output_type": "execute_result"
    }
   ],
   "source": [
    "#train['item_cnt_day'].sort_values(ascending=False)\n",
    "train['item_price'].sort_values(ascending=False)[:5]"
   ]
  },
  {
   "cell_type": "code",
   "execution_count": 12,
   "metadata": {},
   "outputs": [
    {
     "data": {
      "text/html": [
       "<div>\n",
       "<style scoped>\n",
       "    .dataframe tbody tr th:only-of-type {\n",
       "        vertical-align: middle;\n",
       "    }\n",
       "\n",
       "    .dataframe tbody tr th {\n",
       "        vertical-align: top;\n",
       "    }\n",
       "\n",
       "    .dataframe thead th {\n",
       "        text-align: right;\n",
       "    }\n",
       "</style>\n",
       "<table border=\"1\" class=\"dataframe\">\n",
       "  <thead>\n",
       "    <tr style=\"text-align: right;\">\n",
       "      <th></th>\n",
       "      <th>item_name</th>\n",
       "      <th>item_id</th>\n",
       "      <th>item_category_id</th>\n",
       "    </tr>\n",
       "  </thead>\n",
       "  <tbody>\n",
       "    <tr>\n",
       "      <th>6066</th>\n",
       "      <td>Radmin 3  - 522 лиц.</td>\n",
       "      <td>6066</td>\n",
       "      <td>75</td>\n",
       "    </tr>\n",
       "  </tbody>\n",
       "</table>\n",
       "</div>"
      ],
      "text/plain": [
       "                 item_name  item_id  item_category_id\n",
       "6066  Radmin 3  - 522 лиц.     6066                75"
      ]
     },
     "execution_count": 12,
     "metadata": {},
     "output_type": "execute_result"
    }
   ],
   "source": [
    "train[train['item_price'] == 307980]\n",
    "items[items['item_id'] == 6066]"
   ]
  },
  {
   "cell_type": "markdown",
   "metadata": {},
   "source": [
    "Once again, using Google translate, I found that this is an antivirus sold to 522 people and the price is probabaly the cost of one installation times 522. Let's see if there are other transactions related to this software in our training set."
   ]
  },
  {
   "cell_type": "code",
   "execution_count": 13,
   "metadata": {},
   "outputs": [
    {
     "data": {
      "text/html": [
       "<div>\n",
       "<style scoped>\n",
       "    .dataframe tbody tr th:only-of-type {\n",
       "        vertical-align: middle;\n",
       "    }\n",
       "\n",
       "    .dataframe tbody tr th {\n",
       "        vertical-align: top;\n",
       "    }\n",
       "\n",
       "    .dataframe thead th {\n",
       "        text-align: right;\n",
       "    }\n",
       "</style>\n",
       "<table border=\"1\" class=\"dataframe\">\n",
       "  <thead>\n",
       "    <tr style=\"text-align: right;\">\n",
       "      <th></th>\n",
       "      <th>date</th>\n",
       "      <th>date_block_num</th>\n",
       "      <th>shop_id</th>\n",
       "      <th>item_id</th>\n",
       "      <th>item_price</th>\n",
       "      <th>item_cnt_day</th>\n",
       "    </tr>\n",
       "  </thead>\n",
       "  <tbody>\n",
       "    <tr>\n",
       "      <th>885161</th>\n",
       "      <td>28.09.2013</td>\n",
       "      <td>8</td>\n",
       "      <td>12</td>\n",
       "      <td>11365</td>\n",
       "      <td>9370.0</td>\n",
       "      <td>1.0</td>\n",
       "    </tr>\n",
       "    <tr>\n",
       "      <th>302568</th>\n",
       "      <td>12.03.2013</td>\n",
       "      <td>2</td>\n",
       "      <td>12</td>\n",
       "      <td>11365</td>\n",
       "      <td>10540.0</td>\n",
       "      <td>1.0</td>\n",
       "    </tr>\n",
       "    <tr>\n",
       "      <th>885165</th>\n",
       "      <td>23.09.2013</td>\n",
       "      <td>8</td>\n",
       "      <td>12</td>\n",
       "      <td>11365</td>\n",
       "      <td>11880.0</td>\n",
       "      <td>1.0</td>\n",
       "    </tr>\n",
       "    <tr>\n",
       "      <th>302544</th>\n",
       "      <td>05.03.2013</td>\n",
       "      <td>2</td>\n",
       "      <td>12</td>\n",
       "      <td>11365</td>\n",
       "      <td>14530.0</td>\n",
       "      <td>1.0</td>\n",
       "    </tr>\n",
       "    <tr>\n",
       "      <th>885138</th>\n",
       "      <td>17.09.2013</td>\n",
       "      <td>8</td>\n",
       "      <td>12</td>\n",
       "      <td>11365</td>\n",
       "      <td>59200.0</td>\n",
       "      <td>1.0</td>\n",
       "    </tr>\n",
       "  </tbody>\n",
       "</table>\n",
       "</div>"
      ],
      "text/plain": [
       "              date  date_block_num  shop_id  item_id  item_price  item_cnt_day\n",
       "885161  28.09.2013               8       12    11365      9370.0           1.0\n",
       "302568  12.03.2013               2       12    11365     10540.0           1.0\n",
       "885165  23.09.2013               8       12    11365     11880.0           1.0\n",
       "302544  05.03.2013               2       12    11365     14530.0           1.0\n",
       "885138  17.09.2013               8       12    11365     59200.0           1.0"
      ]
     },
     "execution_count": 13,
     "metadata": {},
     "output_type": "execute_result"
    }
   ],
   "source": [
    "items[items['item_id'] == 11365]\n",
    "train[train['item_id'] == 11365].sort_values(['item_price']).tail()"
   ]
  },
  {
   "cell_type": "code",
   "execution_count": 14,
   "metadata": {},
   "outputs": [
    {
     "data": {
      "text/html": [
       "<div>\n",
       "<style scoped>\n",
       "    .dataframe tbody tr th:only-of-type {\n",
       "        vertical-align: middle;\n",
       "    }\n",
       "\n",
       "    .dataframe tbody tr th {\n",
       "        vertical-align: top;\n",
       "    }\n",
       "\n",
       "    .dataframe thead th {\n",
       "        text-align: right;\n",
       "    }\n",
       "</style>\n",
       "<table border=\"1\" class=\"dataframe\">\n",
       "  <thead>\n",
       "    <tr style=\"text-align: right;\">\n",
       "      <th></th>\n",
       "      <th>date</th>\n",
       "      <th>date_block_num</th>\n",
       "      <th>shop_id</th>\n",
       "      <th>item_id</th>\n",
       "      <th>item_price</th>\n",
       "      <th>item_cnt_day</th>\n",
       "    </tr>\n",
       "  </thead>\n",
       "  <tbody>\n",
       "    <tr>\n",
       "      <th>1488135</th>\n",
       "      <td>20.03.2014</td>\n",
       "      <td>14</td>\n",
       "      <td>25</td>\n",
       "      <td>13199</td>\n",
       "      <td>50999.0</td>\n",
       "      <td>1.0</td>\n",
       "    </tr>\n",
       "  </tbody>\n",
       "</table>\n",
       "</div>"
      ],
      "text/plain": [
       "               date  date_block_num  shop_id  item_id  item_price  \\\n",
       "1488135  20.03.2014              14       25    13199     50999.0   \n",
       "\n",
       "         item_cnt_day  \n",
       "1488135           1.0  "
      ]
     },
     "execution_count": 14,
     "metadata": {},
     "output_type": "execute_result"
    }
   ],
   "source": [
    "items[items['item_id'] == 13199]\n",
    "train[train['item_id'] == 13199]"
   ]
  },
  {
   "cell_type": "markdown",
   "metadata": {},
   "source": [
    "Now, we can safely conclude that we want to delete some outlinears. \n",
    "\n",
    "Also, we want to fill the abnormal values with the right value - meadian value of that shop in that month"
   ]
  },
  {
   "cell_type": "code",
   "execution_count": 15,
   "metadata": {},
   "outputs": [],
   "source": [
    "#deal with the outlinears\n",
    "train = train[train['item_cnt_day'] < 500]\n",
    "train = train[train['item_price'] < 50000]"
   ]
  },
  {
   "cell_type": "code",
   "execution_count": 16,
   "metadata": {},
   "outputs": [],
   "source": [
    "##correct the price with -1 with the median value\n",
    "price_correction = train[(train['shop_id'] == 32) & (train['item_id'] == 2973) & \n",
    "                         (train['date_block_num'] == 4) & (train['item_price'] > 0)].item_price.median()\n",
    "train.loc[train['item_price'] < 0, 'item_price'] = price_correction"
   ]
  },
  {
   "cell_type": "markdown",
   "metadata": {},
   "source": [
    "### Test/ train comparasion\n",
    "\n",
    "##### Let's take a look at outdated items"
   ]
  },
  {
   "cell_type": "code",
   "execution_count": 17,
   "metadata": {},
   "outputs": [
    {
     "name": "stdout",
     "output_type": "stream",
     "text": [
      "items in test: 5100\n",
      "pairs of item*shop in test: 214200\n",
      "new items in test(in test but not in train): 363\n"
     ]
    }
   ],
   "source": [
    "print(\"items in test:\",len(list(set(test.item_id))))\n",
    "print(\"pairs of item*shop in test:\",len(test))\n",
    "print(\"new items in test(in test but not in train):\",len(list(set(test.item_id) - set(test.item_id).intersection(set(train.item_id)))))  "
   ]
  },
  {
   "cell_type": "code",
   "execution_count": 18,
   "metadata": {},
   "outputs": [
    {
     "name": "stdout",
     "output_type": "stream",
     "text": [
      "Number of perfect pairs(Item/shop pairs that are in train): 111403\n",
      "Items without any data: 15246\n",
      "Only Item_id Info(Items that are in train): 87551\n"
     ]
    }
   ],
   "source": [
    "good_sales = test.merge(train, on=['item_id','shop_id'], how='left').dropna()\n",
    "good_pairs = test[test['ID'].isin(good_sales['ID'])]\n",
    "no_data_items = test[~(test['item_id'].isin(train['item_id']))]\n",
    "\n",
    "print('Number of perfect pairs(Item/shop pairs that are in train):', len(good_pairs))\n",
    "print('Items without any data:', len(no_data_items))\n",
    "print('Only Item_id Info(Items that are in train):', len(test)-len(no_data_items)-len(good_pairs))"
   ]
  },
  {
   "cell_type": "markdown",
   "metadata": {},
   "source": [
    "##### Deal with the matches\n",
    "\n",
    "Test set is products of some shops and some items within 34 month. There are 5100 items * 42 shops = 214200 pairs. \n",
    "\n",
    "363 items are new compared to the train. Hence, for the most of the items in the test set target value should be zero. \n",
    "\n",
    "In the other hand train set contains only pairs which were sold or returned in the past. Tha main idea is to calculate monthly sales and extend it with zero sales for each unique pair within the month. This way train data will be similar to test data."
   ]
  },
  {
   "cell_type": "code",
   "execution_count": 19,
   "metadata": {},
   "outputs": [],
   "source": [
    "# drop shops&items not in test data\n",
    "test_shops = test.shop_id.unique()\n",
    "test_items = test.item_id.unique()\n",
    "train = train[train.shop_id.isin(test_shops)]\n",
    "train = train[train.item_id.isin(test_items)]"
   ]
  },
  {
   "cell_type": "code",
   "execution_count": 20,
   "metadata": {},
   "outputs": [
    {
     "name": "stdout",
     "output_type": "stream",
     "text": [
      "7282800 7282800\n"
     ]
    }
   ],
   "source": [
    "from itertools import product\n",
    "\n",
    "# create all combinations\n",
    "block_shop_combi = pd.DataFrame(list(product(np.arange(34), test_shops)), columns=['date_block_num','shop_id'])\n",
    "shop_item_combi = pd.DataFrame(list(product(test_shops, test_items)), columns=['shop_id','item_id'])\n",
    "all_combi = pd.merge(block_shop_combi, shop_item_combi, on=['shop_id'], how='inner')\n",
    "print(len(all_combi), 34 * len(test_shops) * len(test_items))\n",
    "\n",
    "# group by monthly\n",
    "train_base = pd.merge(all_combi, train, on=['date_block_num','shop_id','item_id'], how='left')\n",
    "train_base['item_cnt_day'].fillna(0, inplace=True)\n",
    "train_grp = train_base.groupby(['date_block_num','shop_id','item_id'])"
   ]
  },
  {
   "cell_type": "code",
   "execution_count": 21,
   "metadata": {},
   "outputs": [
    {
     "name": "stdout",
     "output_type": "stream",
     "text": [
      "           item_cnt    item_order\n",
      "count  7.282800e+06  7.282800e+06\n",
      "mean   2.213334e-01  1.085718e+00\n",
      "std    3.140399e+00  7.254392e-01\n",
      "min   -4.000000e+00  1.000000e+00\n",
      "25%    0.000000e+00  1.000000e+00\n",
      "50%    0.000000e+00  1.000000e+00\n",
      "75%    0.000000e+00  1.000000e+00\n",
      "max    1.305000e+03  3.100000e+01\n"
     ]
    }
   ],
   "source": [
    "# summary count by month\n",
    "train_monthly = pd.DataFrame(train_grp.agg({'item_cnt_day':['sum','count']})).reset_index()\n",
    "train_monthly.columns = ['date_block_num','shop_id','item_id','item_cnt','item_order']\n",
    "print(train_monthly[['item_cnt','item_order']].describe())\n",
    "\n",
    "# trim count\n",
    "train_monthly['item_cnt'].clip(0, 20, inplace=True)\n",
    "\n",
    "#train_monthly.head()"
   ]
  },
  {
   "cell_type": "markdown",
   "metadata": {},
   "source": [
    "# 3.Feature Engineering and EDA\n"
   ]
  },
  {
   "cell_type": "markdown",
   "metadata": {},
   "source": [
    "# 3.1 items\n",
    "\n",
    "### Items EDA\n",
    "\n",
    "### key findings\n",
    "\n",
    "#### Popular Version of product\n",
    "we can find that the most popular products tend to be Russian Domestic version\n",
    "\n",
    "Russian Version:\"sрусская версия\". \n",
    "\n",
    "Russian subtitles:\"русские субтитры\"\n",
    "\n",
    "This shows that Russian domestic electronic products are more popular than other versions."
   ]
  },
  {
   "cell_type": "code",
   "execution_count": 23,
   "metadata": {},
   "outputs": [],
   "source": [
    "items['name_1'], items['name_2'] = items['item_name'].str.split('[', 1).str\n",
    "items['name_1'], items['name_3'] = items['item_name'].str.split('(', 1).str\n",
    "\n",
    "items['name_2'] = items['name_2'].str.replace('[^A-Za-z0-9А-Яа-я]+', ' ').str.lower()\n",
    "items['name_3'] = items['name_3'].str.replace('[^A-Za-z0-9А-Яа-я]+', ' ').str.lower()\n",
    "items = items.fillna('0')"
   ]
  },
  {
   "cell_type": "markdown",
   "metadata": {},
   "source": [
    "#### Item names feature exploration\n",
    "\n",
    "we can rule out some meaningless words and lots of them are related to Electronic products"
   ]
  },
  {
   "cell_type": "code",
   "execution_count": 27,
   "metadata": {},
   "outputs": [],
   "source": [
    "from collections import Counter\n",
    "from operator import itemgetter"
   ]
  },
  {
   "cell_type": "code",
   "execution_count": 28,
   "metadata": {},
   "outputs": [
    {
     "name": "stdout",
     "output_type": "stream",
     "text": [
      "Most common aditional features:\n"
     ]
    },
    {
     "data": {
      "text/html": [
       "<div>\n",
       "<style scoped>\n",
       "    .dataframe tbody tr th:only-of-type {\n",
       "        vertical-align: middle;\n",
       "    }\n",
       "\n",
       "    .dataframe tbody tr th {\n",
       "        vertical-align: top;\n",
       "    }\n",
       "\n",
       "    .dataframe thead th {\n",
       "        text-align: right;\n",
       "    }\n",
       "</style>\n",
       "<table border=\"1\" class=\"dataframe\">\n",
       "  <thead>\n",
       "    <tr style=\"text-align: right;\">\n",
       "      <th></th>\n",
       "      <th>feature</th>\n",
       "      <th>count</th>\n",
       "    </tr>\n",
       "  </thead>\n",
       "  <tbody>\n",
       "    <tr>\n",
       "      <th>130</th>\n",
       "      <td>документация</td>\n",
       "      <td>284</td>\n",
       "    </tr>\n",
       "    <tr>\n",
       "      <th>131</th>\n",
       "      <td>английская</td>\n",
       "      <td>340</td>\n",
       "    </tr>\n",
       "    <tr>\n",
       "      <th>132</th>\n",
       "      <td>русские</td>\n",
       "      <td>399</td>\n",
       "    </tr>\n",
       "    <tr>\n",
       "      <th>133</th>\n",
       "      <td>субтитры</td>\n",
       "      <td>400</td>\n",
       "    </tr>\n",
       "    <tr>\n",
       "      <th>134</th>\n",
       "      <td>360</td>\n",
       "      <td>465</td>\n",
       "    </tr>\n",
       "    <tr>\n",
       "      <th>135</th>\n",
       "      <td>jewel</td>\n",
       "      <td>552</td>\n",
       "    </tr>\n",
       "    <tr>\n",
       "      <th>136</th>\n",
       "      <td>xbox</td>\n",
       "      <td>589</td>\n",
       "    </tr>\n",
       "    <tr>\n",
       "      <th>137</th>\n",
       "      <td>ps3</td>\n",
       "      <td>611</td>\n",
       "    </tr>\n",
       "    <tr>\n",
       "      <th>138</th>\n",
       "      <td>русская</td>\n",
       "      <td>1428</td>\n",
       "    </tr>\n",
       "    <tr>\n",
       "      <th>139</th>\n",
       "      <td>цифровая</td>\n",
       "      <td>1995</td>\n",
       "    </tr>\n",
       "    <tr>\n",
       "      <th>140</th>\n",
       "      <td>pc</td>\n",
       "      <td>2585</td>\n",
       "    </tr>\n",
       "    <tr>\n",
       "      <th>141</th>\n",
       "      <td>версия</td>\n",
       "      <td>3427</td>\n",
       "    </tr>\n",
       "    <tr>\n",
       "      <th>1981</th>\n",
       "      <td>box</td>\n",
       "      <td>246</td>\n",
       "    </tr>\n",
       "    <tr>\n",
       "      <th>1983</th>\n",
       "      <td>3d</td>\n",
       "      <td>409</td>\n",
       "    </tr>\n",
       "    <tr>\n",
       "      <th>1985</th>\n",
       "      <td>dvd</td>\n",
       "      <td>503</td>\n",
       "    </tr>\n",
       "    <tr>\n",
       "      <th>1986</th>\n",
       "      <td>digipack</td>\n",
       "      <td>541</td>\n",
       "    </tr>\n",
       "    <tr>\n",
       "      <th>1988</th>\n",
       "      <td>фирм</td>\n",
       "      <td>757</td>\n",
       "    </tr>\n",
       "    <tr>\n",
       "      <th>1991</th>\n",
       "      <td>mp3</td>\n",
       "      <td>854</td>\n",
       "    </tr>\n",
       "    <tr>\n",
       "      <th>1992</th>\n",
       "      <td>cd</td>\n",
       "      <td>871</td>\n",
       "    </tr>\n",
       "    <tr>\n",
       "      <th>1993</th>\n",
       "      <td>регион</td>\n",
       "      <td>1849</td>\n",
       "    </tr>\n",
       "    <tr>\n",
       "      <th>1994</th>\n",
       "      <td>bd</td>\n",
       "      <td>2320</td>\n",
       "    </tr>\n",
       "  </tbody>\n",
       "</table>\n",
       "</div>"
      ],
      "text/plain": [
       "           feature  count\n",
       "130   документация    284\n",
       "131     английская    340\n",
       "132        русские    399\n",
       "133       субтитры    400\n",
       "134            360    465\n",
       "135          jewel    552\n",
       "136           xbox    589\n",
       "137            ps3    611\n",
       "138        русская   1428\n",
       "139       цифровая   1995\n",
       "140             pc   2585\n",
       "141         версия   3427\n",
       "1981           box    246\n",
       "1983            3d    409\n",
       "1985           dvd    503\n",
       "1986      digipack    541\n",
       "1988          фирм    757\n",
       "1991           mp3    854\n",
       "1992            cd    871\n",
       "1993        регион   1849\n",
       "1994            bd   2320"
      ]
     },
     "execution_count": 28,
     "metadata": {},
     "output_type": "execute_result"
    }
   ],
   "source": [
    "items['name_1'], items['name_2'] = items['item_name'].str.split('[', 1).str\n",
    "items['name_1'], items['name_3'] = items['item_name'].str.split('(', 1).str\n",
    "\n",
    "items['name_2'] = items['name_2'].str.replace('[^A-Za-z0-9А-Яа-я]+', ' ').str.lower()\n",
    "items['name_3'] = items['name_3'].str.replace('[^A-Za-z0-9А-Яа-я]+', ' ').str.lower()\n",
    "items = items.fillna('0')\n",
    "\n",
    "result_1 = Counter(' '.join(items['name_2'].values.tolist()).split(' ')).items()\n",
    "result_1 = sorted(result_1, key=itemgetter(1))\n",
    "result_1 = pd.DataFrame(result_1, columns=['feature', 'count'])\n",
    "result_1 = result_1[(result_1['feature'].str.len() > 1) & (result_1['count'] > 200)]\n",
    "\n",
    "result_2 = Counter(' '.join(items['name_3'].values.tolist()).split(\" \")).items()\n",
    "result_2 = sorted(result_2, key=itemgetter(1))\n",
    "result_2 = pd.DataFrame(result_2, columns=['feature', 'count'])\n",
    "result_2 = result_2[(result_2['feature'].str.len() > 1) & (result_2['count'] > 200)]\n",
    "\n",
    "result = pd.concat([result_1, result_2])\n",
    "result = result.drop_duplicates(subset=['feature'])\n",
    "\n",
    "##tranlate to russian\n",
    "##result['feature'] = result['feature'].apply(lambda x: translator.translate(x).text)\n",
    "\n",
    "print('Most common aditional features:')\n",
    "result"
   ]
  },
  {
   "cell_type": "markdown",
   "metadata": {},
   "source": [
    "#### Item name correction\n",
    "For our basic \"name feature\" it is enough to find identical items (not similar but identical)\n",
    "\n",
    "I try to translate them to deep dig into the name features, but due to the Google API limitation, I cannot use it for too many times. This can be done in next step."
   ]
  },
  {
   "cell_type": "code",
   "execution_count": 30,
   "metadata": {},
   "outputs": [],
   "source": [
    "##tranlate from russian to english\n",
    "\n",
    "# from googletrans import Translator\n",
    "# translator = Translator()\n",
    "# result['feature'] = result['feature'].apply(lambda x: translator.translate(x).text)"
   ]
  },
  {
   "cell_type": "code",
   "execution_count": 31,
   "metadata": {},
   "outputs": [
    {
     "name": "stdout",
     "output_type": "stream",
     "text": [
      "Unique item names: 22170\n"
     ]
    }
   ],
   "source": [
    "print('Unique item names:', len(items['item_name'].unique()))\n",
    "import re\n",
    "def name_correction(x):\n",
    "    x = x.lower()\n",
    "    x = x.partition('[')[0]\n",
    "    x = x.partition('(')[0]\n",
    "    x = re.sub('[^A-Za-z0-9А-Яа-я]+', ' ', x)\n",
    "    x = x.replace('  ', ' ')\n",
    "    x = x.strip()\n",
    "    return x\n",
    "\n",
    "## translate \n",
    "#items['item_name'] = items['item_name'].apply(lambda x: name_correction(x))\n",
    "#items.head()\n",
    "\n",
    "##encode names\n",
    "items['name_2_code'] = LabelEncoder().fit_transform(items['name_2'])\n",
    "items['name_3_code'] = LabelEncoder().fit_transform(items['name_3'])"
   ]
  },
  {
   "cell_type": "code",
   "execution_count": 32,
   "metadata": {},
   "outputs": [
    {
     "name": "stdout",
     "output_type": "stream",
     "text": [
      "Unique item names after correction: 22170\n"
     ]
    }
   ],
   "source": [
    "print('Unique item names after correction:', len(items['item_name'].unique()))\n",
    "\n",
    "items.drop(['item_name'], axis=1, inplace=True)"
   ]
  },
  {
   "cell_type": "code",
   "execution_count": 34,
   "metadata": {},
   "outputs": [],
   "source": [
    "item_group =pd.merge(train_monthly,items,on=['item_id'],how = 'left')"
   ]
  },
  {
   "cell_type": "code",
   "execution_count": 35,
   "metadata": {},
   "outputs": [
    {
     "data": {
      "text/html": [
       "<div>\n",
       "<style scoped>\n",
       "    .dataframe tbody tr th:only-of-type {\n",
       "        vertical-align: middle;\n",
       "    }\n",
       "\n",
       "    .dataframe tbody tr th {\n",
       "        vertical-align: top;\n",
       "    }\n",
       "\n",
       "    .dataframe thead th {\n",
       "        text-align: right;\n",
       "    }\n",
       "</style>\n",
       "<table border=\"1\" class=\"dataframe\">\n",
       "  <thead>\n",
       "    <tr style=\"text-align: right;\">\n",
       "      <th></th>\n",
       "      <th>name_2</th>\n",
       "      <th>item_cnt</th>\n",
       "    </tr>\n",
       "  </thead>\n",
       "  <tbody>\n",
       "    <tr>\n",
       "      <th>30</th>\n",
       "      <td>pc русская версия</td>\n",
       "      <td>85503.0</td>\n",
       "    </tr>\n",
       "    <tr>\n",
       "      <th>25</th>\n",
       "      <td>pc jewel русская версия</td>\n",
       "      <td>68940.0</td>\n",
       "    </tr>\n",
       "    <tr>\n",
       "      <th>45</th>\n",
       "      <td>ps3 русская версия</td>\n",
       "      <td>66226.0</td>\n",
       "    </tr>\n",
       "    <tr>\n",
       "      <th>53</th>\n",
       "      <td>ps4 русская версия</td>\n",
       "      <td>49368.0</td>\n",
       "    </tr>\n",
       "    <tr>\n",
       "      <th>27</th>\n",
       "      <td>pc jewel русские субтитры</td>\n",
       "      <td>35761.0</td>\n",
       "    </tr>\n",
       "    <tr>\n",
       "      <th>67</th>\n",
       "      <td>xbox 360 русская версия</td>\n",
       "      <td>32017.0</td>\n",
       "    </tr>\n",
       "    <tr>\n",
       "      <th>55</th>\n",
       "      <td>ps4 русские субтитры</td>\n",
       "      <td>18501.0</td>\n",
       "    </tr>\n",
       "    <tr>\n",
       "      <th>51</th>\n",
       "      <td>ps3 русские субтитры</td>\n",
       "      <td>18155.0</td>\n",
       "    </tr>\n",
       "    <tr>\n",
       "      <th>73</th>\n",
       "      <td>xbox 360 русские субтитры</td>\n",
       "      <td>14247.0</td>\n",
       "    </tr>\n",
       "    <tr>\n",
       "      <th>37</th>\n",
       "      <td>pc цифровая версия</td>\n",
       "      <td>13070.0</td>\n",
       "    </tr>\n",
       "  </tbody>\n",
       "</table>\n",
       "</div>"
      ],
      "text/plain": [
       "                        name_2  item_cnt\n",
       "30          pc русская версия    85503.0\n",
       "25    pc jewel русская версия    68940.0\n",
       "45         ps3 русская версия    66226.0\n",
       "53         ps4 русская версия    49368.0\n",
       "27  pc jewel русские субтитры    35761.0\n",
       "67    xbox 360 русская версия    32017.0\n",
       "55       ps4 русские субтитры    18501.0\n",
       "51       ps3 русские субтитры    18155.0\n",
       "73  xbox 360 русские субтитры    14247.0\n",
       "37         pc цифровая версия    13070.0"
      ]
     },
     "execution_count": 35,
     "metadata": {},
     "output_type": "execute_result"
    }
   ],
   "source": [
    "item_group = item_group[['item_cnt','name_2']].groupby(['name_2']).sum().reset_index().sort_values(by='item_cnt',ascending=False)\n",
    "item_group[item_group[\"name_2\"]!='0'][:10]            "
   ]
  },
  {
   "cell_type": "code",
   "execution_count": null,
   "metadata": {},
   "outputs": [],
   "source": []
  },
  {
   "cell_type": "markdown",
   "metadata": {},
   "source": [
    "# 3.2 Shops\n",
    "The structure of the shop information is: Shop City | Shop type | Shop name. \n",
    "\n",
    "After extract the shop city and shop type. I research for the shopping centers, they can be divided into two main types:\n",
    "\n",
    "1.Shopping Centers\n",
    "\n",
    "2.Shopping centers with entertainment facilities(like skating,movies..)\n",
    "\n",
    "\n",
    "###  Key Findings:\n",
    "#### 1.Large Scale cities in terms of sasle\n",
    "sum of the sales\n",
    "\n",
    "1.Moscow\t397349.0\n",
    "\n",
    "2.SPb\t63965.0\n",
    "\n",
    "3.ufa\t55922.0\n",
    "\n",
    "4.Tyumen\t45288.0\n",
    "\n",
    "5.Samara\t40798.0\n",
    "\n",
    "we should target these cities cause the market share is large here and try to find out prediction of next month\n",
    "\n",
    "####  2.Check low volume citys\n",
    "\n",
    "Novosibirsk(новосибирск) has a total sales of 324.0 during the whole time.\n",
    "\n",
    "This sale volume it is extremely low, and the mall type is a shopping mall with entertainment center, which means it should be large scale shopping center and the rent could be really high here.\n",
    "\n",
    "We need to consider checking the running cost of it, either exit the market or find a way to promote the sales"
   ]
  },
  {
   "cell_type": "code",
   "execution_count": 36,
   "metadata": {},
   "outputs": [],
   "source": [
    "shops = dict_data['shops']\n",
    "shops['shop_name'] = shops['shop_name'].apply(lambda x: x.lower()).str.replace('[^\\w\\s]', '').str.replace('\\d+','').str.strip()\n",
    "shops['shop_city'] = shops['shop_name'].str.partition(' ')[0]\n",
    "shops['shop_type'] = shops['shop_name'].apply(lambda x: 'мтрц' if 'мтрц' in x else 'трц' if 'трц' in x else 'трк' if 'трк' in x else 'тц' if 'тц' in x else 'тк' if 'тк' in x else 'Nah')\n",
    "shops['city_code'] = LabelEncoder().fit_transform(shops['shop_city'])\n",
    "shops['shop_type_code'] = LabelEncoder().fit_transform(shops['shop_type'])\n"
   ]
  },
  {
   "cell_type": "code",
   "execution_count": 37,
   "metadata": {},
   "outputs": [],
   "source": [
    "# from googletrans import Translator\n",
    "# translator = Translator()\n",
    "# shops['shop_city'] = shops['shop_city'].apply(lambda x: translator.translate(x).text)\n"
   ]
  },
  {
   "cell_type": "markdown",
   "metadata": {},
   "source": [
    "Take a close look we can find out that some shops have duplicated id/name, we need to deal with these values.\n",
    "\n",
    "The best way here is to converted train shop_id to correct shop_id that is in the test set\n",
    "\n",
    "11 => 10\n",
    "\n",
    "1 => 58\n",
    "\n",
    "0 => 57\n",
    "\n",
    "40 => 39\n",
    "\n"
   ]
  },
  {
   "cell_type": "code",
   "execution_count": 38,
   "metadata": {},
   "outputs": [
    {
     "data": {
      "text/plain": [
       "array([ 5,  4,  6,  3,  2,  7, 10, 12, 28, 31, 26, 25, 22, 24, 21, 15, 16,\n",
       "       18, 14, 19, 42, 50, 49, 53, 52, 47, 48, 57, 58, 59, 55, 56, 36, 37,\n",
       "       35, 38, 34, 46, 41, 44, 39, 45], dtype=int64)"
      ]
     },
     "execution_count": 38,
     "metadata": {},
     "output_type": "execute_result"
    }
   ],
   "source": [
    "test['shop_id'].unique()"
   ]
  },
  {
   "cell_type": "code",
   "execution_count": 39,
   "metadata": {},
   "outputs": [],
   "source": [
    "# Якутск Орджоникидзе\n",
    "train.loc[train.shop_id == 0, 'shop_id'] = 57\n",
    "# Якутск ТЦ \"Центральный\"\n",
    "train.loc[train.shop_id == 1, 'shop_id'] = 58\n",
    "# Жуковский ул. Чкалова 39м²\n",
    "train.loc[train.shop_id == 11, 'shop_id'] = 10\n",
    "train.loc[train.shop_id == 40, 'shop_id'] = 39"
   ]
  },
  {
   "cell_type": "markdown",
   "metadata": {},
   "source": [
    "### Shops EDA"
   ]
  },
  {
   "cell_type": "code",
   "execution_count": 40,
   "metadata": {},
   "outputs": [],
   "source": [
    "shop_group =pd.merge(train_monthly,shops,on=['shop_id'],how = 'left')\n",
    "shop_group_city = shop_group[['item_cnt','shop_city','shop_type']].groupby(['shop_city','shop_type']).sum().reset_index().sort_values(by='item_cnt',ascending=False)\n",
    "shop_group_city = shop_group_city[shop_group_city['shop_type'] != 'Nah']\n",
    "shop_group_city['mall_type'] = np.where((shop_group_city['shop_type']=='тц') | (shop_group_city['shop_type']=='тк'), 'shopping center', 'shopping and entertaiment')"
   ]
  },
  {
   "cell_type": "code",
   "execution_count": 41,
   "metadata": {},
   "outputs": [
    {
     "data": {
      "text/html": [
       "<div>\n",
       "<style scoped>\n",
       "    .dataframe tbody tr th:only-of-type {\n",
       "        vertical-align: middle;\n",
       "    }\n",
       "\n",
       "    .dataframe tbody tr th {\n",
       "        vertical-align: top;\n",
       "    }\n",
       "\n",
       "    .dataframe thead th {\n",
       "        text-align: right;\n",
       "    }\n",
       "</style>\n",
       "<table border=\"1\" class=\"dataframe\">\n",
       "  <thead>\n",
       "    <tr style=\"text-align: right;\">\n",
       "      <th></th>\n",
       "      <th></th>\n",
       "      <th>item_cnt</th>\n",
       "    </tr>\n",
       "    <tr>\n",
       "      <th>shop_city</th>\n",
       "      <th>mall_type</th>\n",
       "      <th></th>\n",
       "    </tr>\n",
       "  </thead>\n",
       "  <tbody>\n",
       "    <tr>\n",
       "      <th>новосибирск</th>\n",
       "      <th>shopping and entertaiment</th>\n",
       "      <td>324.0</td>\n",
       "    </tr>\n",
       "    <tr>\n",
       "      <th>ростовнадону</th>\n",
       "      <th>shopping and entertaiment</th>\n",
       "      <td>10799.0</td>\n",
       "    </tr>\n",
       "    <tr>\n",
       "      <th>тюмень</th>\n",
       "      <th>shopping and entertaiment</th>\n",
       "      <td>12259.0</td>\n",
       "    </tr>\n",
       "    <tr>\n",
       "      <th>балашиха</th>\n",
       "      <th>shopping and entertaiment</th>\n",
       "      <td>15935.0</td>\n",
       "    </tr>\n",
       "    <tr>\n",
       "      <th>адыгея</th>\n",
       "      <th>shopping center</th>\n",
       "      <td>17393.0</td>\n",
       "    </tr>\n",
       "  </tbody>\n",
       "</table>\n",
       "</div>"
      ],
      "text/plain": [
       "                                        item_cnt\n",
       "shop_city    mall_type                          \n",
       "новосибирск  shopping and entertaiment     324.0\n",
       "ростовнадону shopping and entertaiment   10799.0\n",
       "тюмень       shopping and entertaiment   12259.0\n",
       "балашиха     shopping and entertaiment   15935.0\n",
       "адыгея       shopping center             17393.0"
      ]
     },
     "execution_count": 41,
     "metadata": {},
     "output_type": "execute_result"
    }
   ],
   "source": [
    "shop_group_city.groupby(['shop_city','mall_type']).sum().sort_values(by='item_cnt').head()"
   ]
  },
  {
   "cell_type": "code",
   "execution_count": 44,
   "metadata": {},
   "outputs": [
    {
     "data": {
      "text/html": [
       "<div>\n",
       "<style scoped>\n",
       "    .dataframe tbody tr th:only-of-type {\n",
       "        vertical-align: middle;\n",
       "    }\n",
       "\n",
       "    .dataframe tbody tr th {\n",
       "        vertical-align: top;\n",
       "    }\n",
       "\n",
       "    .dataframe thead th {\n",
       "        text-align: right;\n",
       "    }\n",
       "</style>\n",
       "<table border=\"1\" class=\"dataframe\">\n",
       "  <thead>\n",
       "    <tr style=\"text-align: right;\">\n",
       "      <th></th>\n",
       "      <th>shop_city</th>\n",
       "      <th>item_cnt</th>\n",
       "    </tr>\n",
       "  </thead>\n",
       "  <tbody>\n",
       "    <tr>\n",
       "      <th>10</th>\n",
       "      <td>Moscow</td>\n",
       "      <td>397349.0</td>\n",
       "    </tr>\n",
       "    <tr>\n",
       "      <th>17</th>\n",
       "      <td>SPb</td>\n",
       "      <td>63965.0</td>\n",
       "    </tr>\n",
       "    <tr>\n",
       "      <th>21</th>\n",
       "      <td>ufa</td>\n",
       "      <td>55922.0</td>\n",
       "    </tr>\n",
       "    <tr>\n",
       "      <th>20</th>\n",
       "      <td>Tyumen</td>\n",
       "      <td>45288.0</td>\n",
       "    </tr>\n",
       "    <tr>\n",
       "      <th>15</th>\n",
       "      <td>Samara</td>\n",
       "      <td>40798.0</td>\n",
       "    </tr>\n",
       "  </tbody>\n",
       "</table>\n",
       "</div>"
      ],
      "text/plain": [
       "   shop_city  item_cnt\n",
       "10    Moscow  397349.0\n",
       "17       SPb   63965.0\n",
       "21       ufa   55922.0\n",
       "20    Tyumen   45288.0\n",
       "15    Samara   40798.0"
      ]
     },
     "execution_count": 44,
     "metadata": {},
     "output_type": "execute_result"
    }
   ],
   "source": [
    "mostsales_city = shop_group_city.groupby(['shop_city']).sum().reset_index().sort_values(by='item_cnt',ascending=False)[:5]\n",
    "mostsales_city[\"shop_city\"] = mostsales_city[\"shop_city\"].apply(lambda x: translator.translate(x).text)\n",
    "mostsales_city"
   ]
  },
  {
   "cell_type": "markdown",
   "metadata": {},
   "source": [
    "# 3.3 Categories\n",
    "\n",
    "##### We group the data by city and category type（both are extrated by text mining from the original dateset)\n",
    "\n",
    "####  1. A lot of 0 in PC and Delivery\n",
    "\n",
    "1).PC(no PC sales at all,no matter which city the store is in)\n",
    "\n",
    "2).Delivery(only delivery expense here is \"internetmagazin\")\n",
    "\n",
    "We can find out that our delivery method include internet and magazine, we can explore more distant sales distribution channels\n",
    "\n",
    "\n",
    "#### 2.Look at the categories sold at different shops\n",
    "\n",
    "1).For distribution channel on digital, they only categories are sold on digital distrubition channels : Games,books,and programs.\n",
    "\n",
    "2).For every shops including digital and online magazine, the best sales product is games\n"
   ]
  },
  {
   "cell_type": "code",
   "execution_count": 45,
   "metadata": {},
   "outputs": [],
   "source": [
    "categories = dict_data['item_categories'].copy()\n",
    "cat_type = categories['item_category_name'].apply(lambda x: str(x).split(' ')[0])\n",
    "categories['cat_type_name'] = cat_type\n",
    "categories['cat_type'] = pd.Categorical(cat_type).codes"
   ]
  },
  {
   "cell_type": "code",
   "execution_count": 46,
   "metadata": {},
   "outputs": [],
   "source": [
    "cat_with_item = pd.merge(items, categories.loc[:,['item_category_id','cat_type','cat_type_name']], on=['item_category_id'], how='left')\n",
    "city_dict = shops[[\"shop_id\",\"shop_city\"]]\n",
    "city_dict[\"shop_city\"] = city_dict[\"shop_city\"].apply(lambda x: translator.translate(x).text)\n",
    "city_dict = dict(sorted(city_dict.values.tolist()))\n",
    "groupcate = pd.merge(train_monthly, cat_with_item, on=['item_id'], how='left')\n",
    "groupcate['city'] = groupcate ['shop_id'].map(city_dict)\n",
    "groupcate = groupcate[[\"cat_type_name\",\"city\",\"item_cnt\",]].groupby([\"city\",\"cat_type_name\",]).sum().reset_index().sort_values([\"city\",\"item_cnt\"])\n",
    "groupcate['cat_type_name'] = groupcate['cat_type_name'].apply(lambda x: translator.translate(x).text)\n",
    "\n"
   ]
  },
  {
   "cell_type": "code",
   "execution_count": 47,
   "metadata": {},
   "outputs": [
    {
     "data": {
      "text/html": [
       "<div>\n",
       "<style scoped>\n",
       "    .dataframe tbody tr th:only-of-type {\n",
       "        vertical-align: middle;\n",
       "    }\n",
       "\n",
       "    .dataframe tbody tr th {\n",
       "        vertical-align: top;\n",
       "    }\n",
       "\n",
       "    .dataframe thead th {\n",
       "        text-align: right;\n",
       "    }\n",
       "</style>\n",
       "<table border=\"1\" class=\"dataframe\">\n",
       "  <thead>\n",
       "    <tr style=\"text-align: right;\">\n",
       "      <th></th>\n",
       "      <th>city</th>\n",
       "      <th>cat_type_name</th>\n",
       "      <th>item_cnt</th>\n",
       "    </tr>\n",
       "  </thead>\n",
       "  <tbody>\n",
       "    <tr>\n",
       "      <th>0</th>\n",
       "      <td>Adygea</td>\n",
       "      <td>PC</td>\n",
       "      <td>0.0</td>\n",
       "    </tr>\n",
       "    <tr>\n",
       "      <th>2</th>\n",
       "      <td>Adygea</td>\n",
       "      <td>Delivery</td>\n",
       "      <td>0.0</td>\n",
       "    </tr>\n",
       "    <tr>\n",
       "      <th>12</th>\n",
       "      <td>Adygea</td>\n",
       "      <td>elements</td>\n",
       "      <td>48.0</td>\n",
       "    </tr>\n",
       "    <tr>\n",
       "      <th>3</th>\n",
       "      <td>Adygea</td>\n",
       "      <td>Game</td>\n",
       "      <td>187.0</td>\n",
       "    </tr>\n",
       "    <tr>\n",
       "      <th>11</th>\n",
       "      <td>Adygea</td>\n",
       "      <td>System Tools</td>\n",
       "      <td>197.0</td>\n",
       "    </tr>\n",
       "  </tbody>\n",
       "</table>\n",
       "</div>"
      ],
      "text/plain": [
       "      city cat_type_name  item_cnt\n",
       "0   Adygea            PC       0.0\n",
       "2   Adygea      Delivery       0.0\n",
       "12  Adygea      elements      48.0\n",
       "3   Adygea          Game     187.0\n",
       "11  Adygea  System Tools     197.0"
      ]
     },
     "execution_count": 47,
     "metadata": {},
     "output_type": "execute_result"
    }
   ],
   "source": [
    "groupcate.head()"
   ]
  },
  {
   "cell_type": "code",
   "execution_count": 49,
   "metadata": {},
   "outputs": [
    {
     "data": {
      "text/html": [
       "<div>\n",
       "<style scoped>\n",
       "    .dataframe tbody tr th:only-of-type {\n",
       "        vertical-align: middle;\n",
       "    }\n",
       "\n",
       "    .dataframe tbody tr th {\n",
       "        vertical-align: top;\n",
       "    }\n",
       "\n",
       "    .dataframe thead th {\n",
       "        text-align: right;\n",
       "    }\n",
       "</style>\n",
       "<table border=\"1\" class=\"dataframe\">\n",
       "  <thead>\n",
       "    <tr style=\"text-align: right;\">\n",
       "      <th></th>\n",
       "      <th>city</th>\n",
       "      <th>cat_type_name</th>\n",
       "      <th>item_cnt</th>\n",
       "    </tr>\n",
       "  </thead>\n",
       "  <tbody>\n",
       "    <tr>\n",
       "      <th>301</th>\n",
       "      <td>internetmagazin</td>\n",
       "      <td>Delivery</td>\n",
       "      <td>3319.0</td>\n",
       "    </tr>\n",
       "  </tbody>\n",
       "</table>\n",
       "</div>"
      ],
      "text/plain": [
       "                city cat_type_name  item_cnt\n",
       "301  internetmagazin      Delivery    3319.0"
      ]
     },
     "execution_count": 49,
     "metadata": {},
     "output_type": "execute_result"
    }
   ],
   "source": [
    "groupcate[groupcate['cat_type_name']==\"Delivery\"].sort_values(by='item_cnt',ascending=False).head(1)"
   ]
  },
  {
   "cell_type": "code",
   "execution_count": null,
   "metadata": {},
   "outputs": [],
   "source": [
    "## code to look the dataset in detail\n",
    "# with pd.option_context(\"display.max_rows\", 400):\n",
    "#     display(groupcate)"
   ]
  },
  {
   "cell_type": "markdown",
   "metadata": {},
   "source": [
    "Merge dataset for training with mean features"
   ]
  },
  {
   "cell_type": "code",
   "execution_count": 53,
   "metadata": {},
   "outputs": [],
   "source": [
    "categories = dict_data['item_categories'].copy()\n",
    "cat_type = categories['item_category_name'].apply(lambda x: str(x).split(' ')[0])\n",
    "categories['cat_type'] = pd.Categorical(cat_type).codes\n",
    "##merge items and categories\n",
    "items = pd.merge(items, categories.loc[:,['item_category_id','cat_type']], on=['item_category_id'], how='left')\n",
    "# By shop,item\n",
    "grp = train_monthly.groupby(['shop_id', 'item_id'])\n",
    "train_shop = grp.agg({'item_cnt':['mean','median','std'],'item_order':'mean'}).reset_index()\n",
    "train_shop.columns = ['shop_id','item_id','cnt_mean_shop','cnt_med_shop','cnt_std_shop','order_mean_shop']\n",
    "\n",
    "#print(train_shop[['cnt_mean_shop','cnt_med_shop','cnt_std_shop']].describe())\n",
    "#train_shop.head()\n"
   ]
  },
  {
   "cell_type": "code",
   "execution_count": 54,
   "metadata": {},
   "outputs": [],
   "source": [
    "# By shop,item\n",
    "grp = train_monthly.groupby(['shop_id', 'item_id'])\n",
    "train_shop = grp.agg({'item_cnt':['mean','median','std'],'item_order':'mean'}).reset_index()\n",
    "train_shop.columns = ['shop_id','item_id','cnt_mean_shop','cnt_med_shop','cnt_std_shop','order_mean_shop']\n",
    "\n",
    "#print(train_shop[['cnt_mean_shop','cnt_med_shop','cnt_std_shop']].describe())\n",
    "#train_shop.head()"
   ]
  },
  {
   "cell_type": "code",
   "execution_count": 55,
   "metadata": {},
   "outputs": [],
   "source": [
    "# By shop,item_group\n",
    "train_cat_monthly = pd.merge(train_monthly, items, on=['item_id'], how='left')\n",
    "grp = train_cat_monthly.groupby(['shop_id', 'cat_type'])\n",
    "train_shop_cat = grp.agg({'item_cnt':['mean']}).reset_index()\n",
    "train_shop_cat.columns = ['shop_id','cat_type','cnt_mean_shop_cat']\n",
    "\n",
    "#print(train_shop_cat.loc[:,['cnt_mean_shop_cat']].describe())\n",
    "#train_shop_cat.head()"
   ]
  },
  {
   "cell_type": "markdown",
   "metadata": {},
   "source": [
    "# 3.4 Dates\n",
    "\n",
    "#### 1.There is obvious seasonality and monthly effect can be observed from the time series plot.\n",
    "we can add them later\n",
    "1).Month 2).holiday 3).Lag features\n",
    "\n",
    "#### 2.Obvious trend of increasing sales near December and reach the peak at December. \n",
    "(The end of year consumption motivation / Dicount at holidays)\n"
   ]
  },
  {
   "cell_type": "raw",
   "metadata": {},
   "source": [
    "Possible Date features:\n",
    "Weekends and holidays sales (to correct monthly sales)\n",
    "Number of days in the month (to correct monthly sales)\n",
    "Month number (for seasonal items)"
   ]
  },
  {
   "cell_type": "code",
   "execution_count": 61,
   "metadata": {},
   "outputs": [],
   "source": [
    "# #groupby date and sum the sales\n",
    "date = train.copy()\n",
    "date_grp = date.groupby('date_block_num').item_cnt_day.sum().reset_index()"
   ]
  },
  {
   "cell_type": "code",
   "execution_count": 62,
   "metadata": {},
   "outputs": [
    {
     "data": {
      "application/vnd.plotly.v1+json": {
       "config": {
        "plotlyServerURL": "https://plot.ly"
       },
       "data": [
        {
         "hoverlabel": {
          "namelength": 0
         },
         "hovertemplate": "date_block_num=%{x}<br>item_cnt_day=%{y}",
         "legendgroup": "",
         "line": {
          "color": "#636efa",
          "dash": "solid"
         },
         "mode": "lines",
         "name": "",
         "showlegend": false,
         "type": "scatter",
         "x": [
          0,
          1,
          2,
          3,
          4,
          5,
          6,
          7,
          8,
          9,
          10,
          11,
          12,
          13,
          14,
          15,
          16,
          17,
          18,
          19,
          20,
          21,
          22,
          23,
          24,
          25,
          26,
          27,
          28,
          29,
          30,
          31,
          32,
          33
         ],
         "xaxis": "x",
         "y": [
          20612,
          22162,
          31599,
          20704,
          23322,
          32505,
          29960,
          32344,
          44101,
          39753,
          44447,
          68218,
          41955,
          42843,
          49073,
          37005,
          42785,
          44158,
          44125,
          52959,
          48203,
          53319,
          69358,
          103545,
          66576,
          54596,
          54853,
          58323,
          55837,
          51802,
          52305,
          59577,
          58824,
          60179
         ],
         "yaxis": "y"
        }
       ],
       "layout": {
        "height": 600,
        "legend": {
         "tracegroupgap": 0
        },
        "margin": {
         "t": 60
        },
        "template": {
         "data": {
          "bar": [
           {
            "error_x": {
             "color": "#2a3f5f"
            },
            "error_y": {
             "color": "#2a3f5f"
            },
            "marker": {
             "line": {
              "color": "#E5ECF6",
              "width": 0.5
             }
            },
            "type": "bar"
           }
          ],
          "barpolar": [
           {
            "marker": {
             "line": {
              "color": "#E5ECF6",
              "width": 0.5
             }
            },
            "type": "barpolar"
           }
          ],
          "carpet": [
           {
            "aaxis": {
             "endlinecolor": "#2a3f5f",
             "gridcolor": "white",
             "linecolor": "white",
             "minorgridcolor": "white",
             "startlinecolor": "#2a3f5f"
            },
            "baxis": {
             "endlinecolor": "#2a3f5f",
             "gridcolor": "white",
             "linecolor": "white",
             "minorgridcolor": "white",
             "startlinecolor": "#2a3f5f"
            },
            "type": "carpet"
           }
          ],
          "choropleth": [
           {
            "colorbar": {
             "outlinewidth": 0,
             "ticks": ""
            },
            "type": "choropleth"
           }
          ],
          "contour": [
           {
            "colorbar": {
             "outlinewidth": 0,
             "ticks": ""
            },
            "colorscale": [
             [
              0,
              "#0d0887"
             ],
             [
              0.1111111111111111,
              "#46039f"
             ],
             [
              0.2222222222222222,
              "#7201a8"
             ],
             [
              0.3333333333333333,
              "#9c179e"
             ],
             [
              0.4444444444444444,
              "#bd3786"
             ],
             [
              0.5555555555555556,
              "#d8576b"
             ],
             [
              0.6666666666666666,
              "#ed7953"
             ],
             [
              0.7777777777777778,
              "#fb9f3a"
             ],
             [
              0.8888888888888888,
              "#fdca26"
             ],
             [
              1,
              "#f0f921"
             ]
            ],
            "type": "contour"
           }
          ],
          "contourcarpet": [
           {
            "colorbar": {
             "outlinewidth": 0,
             "ticks": ""
            },
            "type": "contourcarpet"
           }
          ],
          "heatmap": [
           {
            "colorbar": {
             "outlinewidth": 0,
             "ticks": ""
            },
            "colorscale": [
             [
              0,
              "#0d0887"
             ],
             [
              0.1111111111111111,
              "#46039f"
             ],
             [
              0.2222222222222222,
              "#7201a8"
             ],
             [
              0.3333333333333333,
              "#9c179e"
             ],
             [
              0.4444444444444444,
              "#bd3786"
             ],
             [
              0.5555555555555556,
              "#d8576b"
             ],
             [
              0.6666666666666666,
              "#ed7953"
             ],
             [
              0.7777777777777778,
              "#fb9f3a"
             ],
             [
              0.8888888888888888,
              "#fdca26"
             ],
             [
              1,
              "#f0f921"
             ]
            ],
            "type": "heatmap"
           }
          ],
          "heatmapgl": [
           {
            "colorbar": {
             "outlinewidth": 0,
             "ticks": ""
            },
            "colorscale": [
             [
              0,
              "#0d0887"
             ],
             [
              0.1111111111111111,
              "#46039f"
             ],
             [
              0.2222222222222222,
              "#7201a8"
             ],
             [
              0.3333333333333333,
              "#9c179e"
             ],
             [
              0.4444444444444444,
              "#bd3786"
             ],
             [
              0.5555555555555556,
              "#d8576b"
             ],
             [
              0.6666666666666666,
              "#ed7953"
             ],
             [
              0.7777777777777778,
              "#fb9f3a"
             ],
             [
              0.8888888888888888,
              "#fdca26"
             ],
             [
              1,
              "#f0f921"
             ]
            ],
            "type": "heatmapgl"
           }
          ],
          "histogram": [
           {
            "marker": {
             "colorbar": {
              "outlinewidth": 0,
              "ticks": ""
             }
            },
            "type": "histogram"
           }
          ],
          "histogram2d": [
           {
            "colorbar": {
             "outlinewidth": 0,
             "ticks": ""
            },
            "colorscale": [
             [
              0,
              "#0d0887"
             ],
             [
              0.1111111111111111,
              "#46039f"
             ],
             [
              0.2222222222222222,
              "#7201a8"
             ],
             [
              0.3333333333333333,
              "#9c179e"
             ],
             [
              0.4444444444444444,
              "#bd3786"
             ],
             [
              0.5555555555555556,
              "#d8576b"
             ],
             [
              0.6666666666666666,
              "#ed7953"
             ],
             [
              0.7777777777777778,
              "#fb9f3a"
             ],
             [
              0.8888888888888888,
              "#fdca26"
             ],
             [
              1,
              "#f0f921"
             ]
            ],
            "type": "histogram2d"
           }
          ],
          "histogram2dcontour": [
           {
            "colorbar": {
             "outlinewidth": 0,
             "ticks": ""
            },
            "colorscale": [
             [
              0,
              "#0d0887"
             ],
             [
              0.1111111111111111,
              "#46039f"
             ],
             [
              0.2222222222222222,
              "#7201a8"
             ],
             [
              0.3333333333333333,
              "#9c179e"
             ],
             [
              0.4444444444444444,
              "#bd3786"
             ],
             [
              0.5555555555555556,
              "#d8576b"
             ],
             [
              0.6666666666666666,
              "#ed7953"
             ],
             [
              0.7777777777777778,
              "#fb9f3a"
             ],
             [
              0.8888888888888888,
              "#fdca26"
             ],
             [
              1,
              "#f0f921"
             ]
            ],
            "type": "histogram2dcontour"
           }
          ],
          "mesh3d": [
           {
            "colorbar": {
             "outlinewidth": 0,
             "ticks": ""
            },
            "type": "mesh3d"
           }
          ],
          "parcoords": [
           {
            "line": {
             "colorbar": {
              "outlinewidth": 0,
              "ticks": ""
             }
            },
            "type": "parcoords"
           }
          ],
          "scatter": [
           {
            "marker": {
             "colorbar": {
              "outlinewidth": 0,
              "ticks": ""
             }
            },
            "type": "scatter"
           }
          ],
          "scatter3d": [
           {
            "line": {
             "colorbar": {
              "outlinewidth": 0,
              "ticks": ""
             }
            },
            "marker": {
             "colorbar": {
              "outlinewidth": 0,
              "ticks": ""
             }
            },
            "type": "scatter3d"
           }
          ],
          "scattercarpet": [
           {
            "marker": {
             "colorbar": {
              "outlinewidth": 0,
              "ticks": ""
             }
            },
            "type": "scattercarpet"
           }
          ],
          "scattergeo": [
           {
            "marker": {
             "colorbar": {
              "outlinewidth": 0,
              "ticks": ""
             }
            },
            "type": "scattergeo"
           }
          ],
          "scattergl": [
           {
            "marker": {
             "colorbar": {
              "outlinewidth": 0,
              "ticks": ""
             }
            },
            "type": "scattergl"
           }
          ],
          "scattermapbox": [
           {
            "marker": {
             "colorbar": {
              "outlinewidth": 0,
              "ticks": ""
             }
            },
            "type": "scattermapbox"
           }
          ],
          "scatterpolar": [
           {
            "marker": {
             "colorbar": {
              "outlinewidth": 0,
              "ticks": ""
             }
            },
            "type": "scatterpolar"
           }
          ],
          "scatterpolargl": [
           {
            "marker": {
             "colorbar": {
              "outlinewidth": 0,
              "ticks": ""
             }
            },
            "type": "scatterpolargl"
           }
          ],
          "scatterternary": [
           {
            "marker": {
             "colorbar": {
              "outlinewidth": 0,
              "ticks": ""
             }
            },
            "type": "scatterternary"
           }
          ],
          "surface": [
           {
            "colorbar": {
             "outlinewidth": 0,
             "ticks": ""
            },
            "colorscale": [
             [
              0,
              "#0d0887"
             ],
             [
              0.1111111111111111,
              "#46039f"
             ],
             [
              0.2222222222222222,
              "#7201a8"
             ],
             [
              0.3333333333333333,
              "#9c179e"
             ],
             [
              0.4444444444444444,
              "#bd3786"
             ],
             [
              0.5555555555555556,
              "#d8576b"
             ],
             [
              0.6666666666666666,
              "#ed7953"
             ],
             [
              0.7777777777777778,
              "#fb9f3a"
             ],
             [
              0.8888888888888888,
              "#fdca26"
             ],
             [
              1,
              "#f0f921"
             ]
            ],
            "type": "surface"
           }
          ],
          "table": [
           {
            "cells": {
             "fill": {
              "color": "#EBF0F8"
             },
             "line": {
              "color": "white"
             }
            },
            "header": {
             "fill": {
              "color": "#C8D4E3"
             },
             "line": {
              "color": "white"
             }
            },
            "type": "table"
           }
          ]
         },
         "layout": {
          "annotationdefaults": {
           "arrowcolor": "#2a3f5f",
           "arrowhead": 0,
           "arrowwidth": 1
          },
          "colorscale": {
           "diverging": [
            [
             0,
             "#8e0152"
            ],
            [
             0.1,
             "#c51b7d"
            ],
            [
             0.2,
             "#de77ae"
            ],
            [
             0.3,
             "#f1b6da"
            ],
            [
             0.4,
             "#fde0ef"
            ],
            [
             0.5,
             "#f7f7f7"
            ],
            [
             0.6,
             "#e6f5d0"
            ],
            [
             0.7,
             "#b8e186"
            ],
            [
             0.8,
             "#7fbc41"
            ],
            [
             0.9,
             "#4d9221"
            ],
            [
             1,
             "#276419"
            ]
           ],
           "sequential": [
            [
             0,
             "#0d0887"
            ],
            [
             0.1111111111111111,
             "#46039f"
            ],
            [
             0.2222222222222222,
             "#7201a8"
            ],
            [
             0.3333333333333333,
             "#9c179e"
            ],
            [
             0.4444444444444444,
             "#bd3786"
            ],
            [
             0.5555555555555556,
             "#d8576b"
            ],
            [
             0.6666666666666666,
             "#ed7953"
            ],
            [
             0.7777777777777778,
             "#fb9f3a"
            ],
            [
             0.8888888888888888,
             "#fdca26"
            ],
            [
             1,
             "#f0f921"
            ]
           ],
           "sequentialminus": [
            [
             0,
             "#0d0887"
            ],
            [
             0.1111111111111111,
             "#46039f"
            ],
            [
             0.2222222222222222,
             "#7201a8"
            ],
            [
             0.3333333333333333,
             "#9c179e"
            ],
            [
             0.4444444444444444,
             "#bd3786"
            ],
            [
             0.5555555555555556,
             "#d8576b"
            ],
            [
             0.6666666666666666,
             "#ed7953"
            ],
            [
             0.7777777777777778,
             "#fb9f3a"
            ],
            [
             0.8888888888888888,
             "#fdca26"
            ],
            [
             1,
             "#f0f921"
            ]
           ]
          },
          "colorway": [
           "#636efa",
           "#EF553B",
           "#00cc96",
           "#ab63fa",
           "#FFA15A",
           "#19d3f3",
           "#FF6692",
           "#B6E880",
           "#FF97FF",
           "#FECB52"
          ],
          "font": {
           "color": "#2a3f5f"
          },
          "geo": {
           "bgcolor": "white",
           "lakecolor": "white",
           "landcolor": "#E5ECF6",
           "showlakes": true,
           "showland": true,
           "subunitcolor": "white"
          },
          "hoverlabel": {
           "align": "left"
          },
          "hovermode": "closest",
          "mapbox": {
           "style": "light"
          },
          "paper_bgcolor": "white",
          "plot_bgcolor": "#E5ECF6",
          "polar": {
           "angularaxis": {
            "gridcolor": "white",
            "linecolor": "white",
            "ticks": ""
           },
           "bgcolor": "#E5ECF6",
           "radialaxis": {
            "gridcolor": "white",
            "linecolor": "white",
            "ticks": ""
           }
          },
          "scene": {
           "xaxis": {
            "backgroundcolor": "#E5ECF6",
            "gridcolor": "white",
            "gridwidth": 2,
            "linecolor": "white",
            "showbackground": true,
            "ticks": "",
            "zerolinecolor": "white"
           },
           "yaxis": {
            "backgroundcolor": "#E5ECF6",
            "gridcolor": "white",
            "gridwidth": 2,
            "linecolor": "white",
            "showbackground": true,
            "ticks": "",
            "zerolinecolor": "white"
           },
           "zaxis": {
            "backgroundcolor": "#E5ECF6",
            "gridcolor": "white",
            "gridwidth": 2,
            "linecolor": "white",
            "showbackground": true,
            "ticks": "",
            "zerolinecolor": "white"
           }
          },
          "shapedefaults": {
           "line": {
            "color": "#2a3f5f"
           }
          },
          "ternary": {
           "aaxis": {
            "gridcolor": "white",
            "linecolor": "white",
            "ticks": ""
           },
           "baxis": {
            "gridcolor": "white",
            "linecolor": "white",
            "ticks": ""
           },
           "bgcolor": "#E5ECF6",
           "caxis": {
            "gridcolor": "white",
            "linecolor": "white",
            "ticks": ""
           }
          },
          "title": {
           "x": 0.05
          },
          "xaxis": {
           "automargin": true,
           "gridcolor": "white",
           "linecolor": "white",
           "ticks": "",
           "zerolinecolor": "white",
           "zerolinewidth": 2
          },
          "yaxis": {
           "automargin": true,
           "gridcolor": "white",
           "linecolor": "white",
           "ticks": "",
           "zerolinecolor": "white",
           "zerolinewidth": 2
          }
         }
        },
        "xaxis": {
         "anchor": "y",
         "domain": [
          0,
          0.98
         ],
         "title": {
          "text": "Date"
         }
        },
        "yaxis": {
         "anchor": "x",
         "domain": [
          0,
          1
         ],
         "title": {
          "text": "Sales"
         }
        }
       }
      },
      "text/html": [
       "<div>\n",
       "        \n",
       "        \n",
       "            <div id=\"d3770793-c404-40f1-9ea5-06b9dc06a007\" class=\"plotly-graph-div\" style=\"height:600px; width:100%;\"></div>\n",
       "            <script type=\"text/javascript\">\n",
       "                require([\"plotly\"], function(Plotly) {\n",
       "                    window.PLOTLYENV=window.PLOTLYENV || {};\n",
       "                    \n",
       "                if (document.getElementById(\"d3770793-c404-40f1-9ea5-06b9dc06a007\")) {\n",
       "                    Plotly.newPlot(\n",
       "                        'd3770793-c404-40f1-9ea5-06b9dc06a007',\n",
       "                        [{\"hoverlabel\": {\"namelength\": 0}, \"hovertemplate\": \"date_block_num=%{x}<br>item_cnt_day=%{y}\", \"legendgroup\": \"\", \"line\": {\"color\": \"#636efa\", \"dash\": \"solid\"}, \"mode\": \"lines\", \"name\": \"\", \"showlegend\": false, \"type\": \"scatter\", \"x\": [0, 1, 2, 3, 4, 5, 6, 7, 8, 9, 10, 11, 12, 13, 14, 15, 16, 17, 18, 19, 20, 21, 22, 23, 24, 25, 26, 27, 28, 29, 30, 31, 32, 33], \"xaxis\": \"x\", \"y\": [20612.0, 22162.0, 31599.0, 20704.0, 23322.0, 32505.0, 29960.0, 32344.0, 44101.0, 39753.0, 44447.0, 68218.0, 41955.0, 42843.0, 49073.0, 37005.0, 42785.0, 44158.0, 44125.0, 52959.0, 48203.0, 53319.0, 69358.0, 103545.0, 66576.0, 54596.0, 54853.0, 58323.0, 55837.0, 51802.0, 52305.0, 59577.0, 58824.0, 60179.0], \"yaxis\": \"y\"}],\n",
       "                        {\"height\": 600, \"legend\": {\"tracegroupgap\": 0}, \"margin\": {\"t\": 60}, \"template\": {\"data\": {\"bar\": [{\"error_x\": {\"color\": \"#2a3f5f\"}, \"error_y\": {\"color\": \"#2a3f5f\"}, \"marker\": {\"line\": {\"color\": \"#E5ECF6\", \"width\": 0.5}}, \"type\": \"bar\"}], \"barpolar\": [{\"marker\": {\"line\": {\"color\": \"#E5ECF6\", \"width\": 0.5}}, \"type\": \"barpolar\"}], \"carpet\": [{\"aaxis\": {\"endlinecolor\": \"#2a3f5f\", \"gridcolor\": \"white\", \"linecolor\": \"white\", \"minorgridcolor\": \"white\", \"startlinecolor\": \"#2a3f5f\"}, \"baxis\": {\"endlinecolor\": \"#2a3f5f\", \"gridcolor\": \"white\", \"linecolor\": \"white\", \"minorgridcolor\": \"white\", \"startlinecolor\": \"#2a3f5f\"}, \"type\": \"carpet\"}], \"choropleth\": [{\"colorbar\": {\"outlinewidth\": 0, \"ticks\": \"\"}, \"type\": \"choropleth\"}], \"contour\": [{\"colorbar\": {\"outlinewidth\": 0, \"ticks\": \"\"}, \"colorscale\": [[0.0, \"#0d0887\"], [0.1111111111111111, \"#46039f\"], [0.2222222222222222, \"#7201a8\"], [0.3333333333333333, \"#9c179e\"], [0.4444444444444444, \"#bd3786\"], [0.5555555555555556, \"#d8576b\"], [0.6666666666666666, \"#ed7953\"], [0.7777777777777778, \"#fb9f3a\"], [0.8888888888888888, \"#fdca26\"], [1.0, \"#f0f921\"]], \"type\": \"contour\"}], \"contourcarpet\": [{\"colorbar\": {\"outlinewidth\": 0, \"ticks\": \"\"}, \"type\": \"contourcarpet\"}], \"heatmap\": [{\"colorbar\": {\"outlinewidth\": 0, \"ticks\": \"\"}, \"colorscale\": [[0.0, \"#0d0887\"], [0.1111111111111111, \"#46039f\"], [0.2222222222222222, \"#7201a8\"], [0.3333333333333333, \"#9c179e\"], [0.4444444444444444, \"#bd3786\"], [0.5555555555555556, \"#d8576b\"], [0.6666666666666666, \"#ed7953\"], [0.7777777777777778, \"#fb9f3a\"], [0.8888888888888888, \"#fdca26\"], [1.0, \"#f0f921\"]], \"type\": \"heatmap\"}], \"heatmapgl\": [{\"colorbar\": {\"outlinewidth\": 0, \"ticks\": \"\"}, \"colorscale\": [[0.0, \"#0d0887\"], [0.1111111111111111, \"#46039f\"], [0.2222222222222222, \"#7201a8\"], [0.3333333333333333, \"#9c179e\"], [0.4444444444444444, \"#bd3786\"], [0.5555555555555556, \"#d8576b\"], [0.6666666666666666, \"#ed7953\"], [0.7777777777777778, \"#fb9f3a\"], [0.8888888888888888, \"#fdca26\"], [1.0, \"#f0f921\"]], \"type\": \"heatmapgl\"}], \"histogram\": [{\"marker\": {\"colorbar\": {\"outlinewidth\": 0, \"ticks\": \"\"}}, \"type\": \"histogram\"}], \"histogram2d\": [{\"colorbar\": {\"outlinewidth\": 0, \"ticks\": \"\"}, \"colorscale\": [[0.0, \"#0d0887\"], [0.1111111111111111, \"#46039f\"], [0.2222222222222222, \"#7201a8\"], [0.3333333333333333, \"#9c179e\"], [0.4444444444444444, \"#bd3786\"], [0.5555555555555556, \"#d8576b\"], [0.6666666666666666, \"#ed7953\"], [0.7777777777777778, \"#fb9f3a\"], [0.8888888888888888, \"#fdca26\"], [1.0, \"#f0f921\"]], \"type\": \"histogram2d\"}], \"histogram2dcontour\": [{\"colorbar\": {\"outlinewidth\": 0, \"ticks\": \"\"}, \"colorscale\": [[0.0, \"#0d0887\"], [0.1111111111111111, \"#46039f\"], [0.2222222222222222, \"#7201a8\"], [0.3333333333333333, \"#9c179e\"], [0.4444444444444444, \"#bd3786\"], [0.5555555555555556, \"#d8576b\"], [0.6666666666666666, \"#ed7953\"], [0.7777777777777778, \"#fb9f3a\"], [0.8888888888888888, \"#fdca26\"], [1.0, \"#f0f921\"]], \"type\": \"histogram2dcontour\"}], \"mesh3d\": [{\"colorbar\": {\"outlinewidth\": 0, \"ticks\": \"\"}, \"type\": \"mesh3d\"}], \"parcoords\": [{\"line\": {\"colorbar\": {\"outlinewidth\": 0, \"ticks\": \"\"}}, \"type\": \"parcoords\"}], \"scatter\": [{\"marker\": {\"colorbar\": {\"outlinewidth\": 0, \"ticks\": \"\"}}, \"type\": \"scatter\"}], \"scatter3d\": [{\"line\": {\"colorbar\": {\"outlinewidth\": 0, \"ticks\": \"\"}}, \"marker\": {\"colorbar\": {\"outlinewidth\": 0, \"ticks\": \"\"}}, \"type\": \"scatter3d\"}], \"scattercarpet\": [{\"marker\": {\"colorbar\": {\"outlinewidth\": 0, \"ticks\": \"\"}}, \"type\": \"scattercarpet\"}], \"scattergeo\": [{\"marker\": {\"colorbar\": {\"outlinewidth\": 0, \"ticks\": \"\"}}, \"type\": \"scattergeo\"}], \"scattergl\": [{\"marker\": {\"colorbar\": {\"outlinewidth\": 0, \"ticks\": \"\"}}, \"type\": \"scattergl\"}], \"scattermapbox\": [{\"marker\": {\"colorbar\": {\"outlinewidth\": 0, \"ticks\": \"\"}}, \"type\": \"scattermapbox\"}], \"scatterpolar\": [{\"marker\": {\"colorbar\": {\"outlinewidth\": 0, \"ticks\": \"\"}}, \"type\": \"scatterpolar\"}], \"scatterpolargl\": [{\"marker\": {\"colorbar\": {\"outlinewidth\": 0, \"ticks\": \"\"}}, \"type\": \"scatterpolargl\"}], \"scatterternary\": [{\"marker\": {\"colorbar\": {\"outlinewidth\": 0, \"ticks\": \"\"}}, \"type\": \"scatterternary\"}], \"surface\": [{\"colorbar\": {\"outlinewidth\": 0, \"ticks\": \"\"}, \"colorscale\": [[0.0, \"#0d0887\"], [0.1111111111111111, \"#46039f\"], [0.2222222222222222, \"#7201a8\"], [0.3333333333333333, \"#9c179e\"], [0.4444444444444444, \"#bd3786\"], [0.5555555555555556, \"#d8576b\"], [0.6666666666666666, \"#ed7953\"], [0.7777777777777778, \"#fb9f3a\"], [0.8888888888888888, \"#fdca26\"], [1.0, \"#f0f921\"]], \"type\": \"surface\"}], \"table\": [{\"cells\": {\"fill\": {\"color\": \"#EBF0F8\"}, \"line\": {\"color\": \"white\"}}, \"header\": {\"fill\": {\"color\": \"#C8D4E3\"}, \"line\": {\"color\": \"white\"}}, \"type\": \"table\"}]}, \"layout\": {\"annotationdefaults\": {\"arrowcolor\": \"#2a3f5f\", \"arrowhead\": 0, \"arrowwidth\": 1}, \"colorscale\": {\"diverging\": [[0, \"#8e0152\"], [0.1, \"#c51b7d\"], [0.2, \"#de77ae\"], [0.3, \"#f1b6da\"], [0.4, \"#fde0ef\"], [0.5, \"#f7f7f7\"], [0.6, \"#e6f5d0\"], [0.7, \"#b8e186\"], [0.8, \"#7fbc41\"], [0.9, \"#4d9221\"], [1, \"#276419\"]], \"sequential\": [[0.0, \"#0d0887\"], [0.1111111111111111, \"#46039f\"], [0.2222222222222222, \"#7201a8\"], [0.3333333333333333, \"#9c179e\"], [0.4444444444444444, \"#bd3786\"], [0.5555555555555556, \"#d8576b\"], [0.6666666666666666, \"#ed7953\"], [0.7777777777777778, \"#fb9f3a\"], [0.8888888888888888, \"#fdca26\"], [1.0, \"#f0f921\"]], \"sequentialminus\": [[0.0, \"#0d0887\"], [0.1111111111111111, \"#46039f\"], [0.2222222222222222, \"#7201a8\"], [0.3333333333333333, \"#9c179e\"], [0.4444444444444444, \"#bd3786\"], [0.5555555555555556, \"#d8576b\"], [0.6666666666666666, \"#ed7953\"], [0.7777777777777778, \"#fb9f3a\"], [0.8888888888888888, \"#fdca26\"], [1.0, \"#f0f921\"]]}, \"colorway\": [\"#636efa\", \"#EF553B\", \"#00cc96\", \"#ab63fa\", \"#FFA15A\", \"#19d3f3\", \"#FF6692\", \"#B6E880\", \"#FF97FF\", \"#FECB52\"], \"font\": {\"color\": \"#2a3f5f\"}, \"geo\": {\"bgcolor\": \"white\", \"lakecolor\": \"white\", \"landcolor\": \"#E5ECF6\", \"showlakes\": true, \"showland\": true, \"subunitcolor\": \"white\"}, \"hoverlabel\": {\"align\": \"left\"}, \"hovermode\": \"closest\", \"mapbox\": {\"style\": \"light\"}, \"paper_bgcolor\": \"white\", \"plot_bgcolor\": \"#E5ECF6\", \"polar\": {\"angularaxis\": {\"gridcolor\": \"white\", \"linecolor\": \"white\", \"ticks\": \"\"}, \"bgcolor\": \"#E5ECF6\", \"radialaxis\": {\"gridcolor\": \"white\", \"linecolor\": \"white\", \"ticks\": \"\"}}, \"scene\": {\"xaxis\": {\"backgroundcolor\": \"#E5ECF6\", \"gridcolor\": \"white\", \"gridwidth\": 2, \"linecolor\": \"white\", \"showbackground\": true, \"ticks\": \"\", \"zerolinecolor\": \"white\"}, \"yaxis\": {\"backgroundcolor\": \"#E5ECF6\", \"gridcolor\": \"white\", \"gridwidth\": 2, \"linecolor\": \"white\", \"showbackground\": true, \"ticks\": \"\", \"zerolinecolor\": \"white\"}, \"zaxis\": {\"backgroundcolor\": \"#E5ECF6\", \"gridcolor\": \"white\", \"gridwidth\": 2, \"linecolor\": \"white\", \"showbackground\": true, \"ticks\": \"\", \"zerolinecolor\": \"white\"}}, \"shapedefaults\": {\"line\": {\"color\": \"#2a3f5f\"}}, \"ternary\": {\"aaxis\": {\"gridcolor\": \"white\", \"linecolor\": \"white\", \"ticks\": \"\"}, \"baxis\": {\"gridcolor\": \"white\", \"linecolor\": \"white\", \"ticks\": \"\"}, \"bgcolor\": \"#E5ECF6\", \"caxis\": {\"gridcolor\": \"white\", \"linecolor\": \"white\", \"ticks\": \"\"}}, \"title\": {\"x\": 0.05}, \"xaxis\": {\"automargin\": true, \"gridcolor\": \"white\", \"linecolor\": \"white\", \"ticks\": \"\", \"zerolinecolor\": \"white\", \"zerolinewidth\": 2}, \"yaxis\": {\"automargin\": true, \"gridcolor\": \"white\", \"linecolor\": \"white\", \"ticks\": \"\", \"zerolinecolor\": \"white\", \"zerolinewidth\": 2}}}, \"xaxis\": {\"anchor\": \"y\", \"domain\": [0.0, 0.98], \"title\": {\"text\": \"Date\"}}, \"yaxis\": {\"anchor\": \"x\", \"domain\": [0.0, 1.0], \"title\": {\"text\": \"Sales\"}}},\n",
       "                        {\"responsive\": true}\n",
       "                    ).then(function(){\n",
       "                            \n",
       "var gd = document.getElementById('d3770793-c404-40f1-9ea5-06b9dc06a007');\n",
       "var x = new MutationObserver(function (mutations, observer) {{\n",
       "        var display = window.getComputedStyle(gd).display;\n",
       "        if (!display || display === 'none') {{\n",
       "            console.log([gd, 'removed!']);\n",
       "            Plotly.purge(gd);\n",
       "            observer.disconnect();\n",
       "        }}\n",
       "}});\n",
       "\n",
       "// Listen for the removal of the full notebook cells\n",
       "var notebookContainer = gd.closest('#notebook-container');\n",
       "if (notebookContainer) {{\n",
       "    x.observe(notebookContainer, {childList: true});\n",
       "}}\n",
       "\n",
       "// Listen for the clearing of the current output cell\n",
       "var outputEl = gd.closest('.output');\n",
       "if (outputEl) {{\n",
       "    x.observe(outputEl, {childList: true});\n",
       "}}\n",
       "\n",
       "                        })\n",
       "                };\n",
       "                });\n",
       "            </script>\n",
       "        </div>"
      ]
     },
     "metadata": {},
     "output_type": "display_data"
    }
   ],
   "source": [
    "import plotly.graph_objects as go\n",
    "# #plot monthly sales\n",
    "fig = go.Figure()\n",
    "fig.add_trace(go.Scatter(y=[1, 0]))\n",
    "fig = px.line(date_grp, x='date_block_num', y='item_cnt_day')\n",
    "fig.update_yaxes(title_text='Sales')\n",
    "fig.update_xaxes(title_text='Date')\n",
    "fig.show()"
   ]
  },
  {
   "cell_type": "markdown",
   "metadata": {},
   "source": [
    "# 3.5 Macroeconomic external features\n",
    "\n",
    "#### Research and find external macroeconomic features which can pose effect on the sales, map them into the time series\n",
    "\n",
    "1.Ruble price\n",
    "\n",
    "2.Moscow exchange trading volume"
   ]
  },
  {
   "cell_type": "code",
   "execution_count": 63,
   "metadata": {},
   "outputs": [],
   "source": [
    "ruble_dollar = {\n",
    "    12: 33.675610, 13: 35.245171, \n",
    "    14: 36.195442, 15: 35.658811, \n",
    "    16: 34.918525, 17: 34.392044, \n",
    "    18: 34.684944, 19: 36.144526, \n",
    "    20: 37.951523, 21: 40.815324, \n",
    "    22: 46.257598, 23: 55.966912, \n",
    "    24: 63.676710, 25: 64.443511, \n",
    "    26: 60.261687, 27: 53.179035, \n",
    "    28: 50.682796, 29: 54.610770, \n",
    "    30: 57.155767, 31: 65.355082, \n",
    "    32: 66.950360, 33: 63.126499, \n",
    "    34: 65.083095, }"
   ]
  },
  {
   "cell_type": "code",
   "execution_count": 64,
   "metadata": {},
   "outputs": [],
   "source": [
    "##Moscow Exchange trading volume\n",
    "moex = {\n",
    "    12: 659, 13: 640, 14: 1231,\n",
    "    15: 881, 16: 764, 17: 663,\n",
    "    18: 743, 19: 627, 20: 692,\n",
    "    21: 736, 22: 680, 23: 1092,\n",
    "    24: 657, 25: 863, 26: 720,\n",
    "    27: 819, 28: 574, 29: 568,\n",
    "    30: 633, 31: 658, 32: 611,\n",
    "    33: 770, 34: 723,\n",
    "}"
   ]
  },
  {
   "cell_type": "markdown",
   "metadata": {},
   "source": [
    "# 3.6 Create Lags"
   ]
  },
  {
   "cell_type": "code",
   "execution_count": 65,
   "metadata": {},
   "outputs": [],
   "source": [
    "# By month,shop,item At previous\n",
    "train_prev = train_monthly.copy()\n",
    "train_prev['date_block_num'] = train_prev['date_block_num'] + 1\n",
    "train_prev.columns = ['date_block_num','shop_id','item_id','cnt_prev','order_prev']\n",
    "\n",
    "for i in [2,12]:\n",
    "    train_prev_n = train_monthly.copy()\n",
    "    train_prev_n['date_block_num'] = train_prev_n['date_block_num'] + i\n",
    "    train_prev_n.columns = ['date_block_num','shop_id','item_id','cnt_prev' + str(i),'order_prev' + str(i)]\n",
    "    train_prev = pd.merge(train_prev, train_prev_n, on=['date_block_num','shop_id','item_id'], how='left')\n",
    "\n",
    "#train_prev.head()"
   ]
  },
  {
   "cell_type": "code",
   "execution_count": 66,
   "metadata": {},
   "outputs": [],
   "source": [
    "## By month,shop,item_group At previous\n",
    "grp = pd.merge(train_prev, items, on=['item_id'], how='left').groupby(['date_block_num','shop_id','cat_type'])\n",
    "train_cat_prev = grp['cnt_prev'].mean().reset_index()\n",
    "train_cat_prev = train_cat_prev.rename(columns={'cnt_prev':'cnt_prev_cat'})\n",
    "\n",
    "#print(train_cat_prev.loc[:,['cnt_prev_cat']].describe())\n",
    "#train_cat_prev.head()"
   ]
  },
  {
   "cell_type": "code",
   "execution_count": 67,
   "metadata": {},
   "outputs": [],
   "source": [
    "##crosstab\n",
    "train_piv = train_monthly.pivot_table(index=['shop_id','item_id'], columns=['date_block_num'], values='item_cnt', aggfunc=np.sum, fill_value=0)\n",
    "train_piv = train_piv.reset_index()\n",
    "#train_piv.head()"
   ]
  },
  {
   "cell_type": "markdown",
   "metadata": {},
   "source": [
    "#### Moving Average"
   ]
  },
  {
   "cell_type": "code",
   "execution_count": 75,
   "metadata": {},
   "outputs": [],
   "source": [
    "# MACD\n",
    "\n",
    "items = items[[\"item_id\",\"item_category_id\"]]\n",
    "col = np.arange(34)\n",
    "pivT = train_piv[col].T\n",
    "ema_s = pivT.ewm(span=4).mean().T\n",
    "ema_m = pivT.ewm(span=12).mean().T\n",
    "ema_l = pivT.ewm(span=26).mean().T\n",
    "macd = ema_s - ema_l\n",
    "sig = macd.ewm(span=9).mean()\n",
    "\n",
    "ema_list = []\n",
    "for c in col:\n",
    "  sub_ema = pd.concat([train_piv.loc[:,['shop_id','item_id']],\n",
    "      pd.DataFrame(ema_s.loc[:,c]).rename(columns={c:'cnt_ema_s_prev'}),\n",
    "      pd.DataFrame(ema_m.loc[:,c]).rename(columns={c:'cnt_ema_m_prev'}),\n",
    "      pd.DataFrame(ema_l.loc[:,c]).rename(columns={c:'cnt_ema_l_prev'}),\n",
    "      pd.DataFrame(macd.loc[:,c]).rename(columns={c:'cnt_macd_prev'}),\n",
    "      pd.DataFrame(sig.loc[:,c]).rename(columns={c:'cnt_sig_prev'})], axis=1)\n",
    "  sub_ema['date_block_num'] = c + 1\n",
    "  ema_list.append(sub_ema)\n",
    "    \n",
    "train_ema_prev = pd.concat(ema_list)\n",
    "#train_ema_prev.head()"
   ]
  },
  {
   "cell_type": "markdown",
   "metadata": {},
   "source": [
    "# 3.7 Prices\n",
    "\n",
    "Possible Price features:\n",
    "\n",
    "#### Use trees here to predict the test item price which does not exist in the shop.\n",
    "\n",
    "1.Discount\n",
    "2.Price lag (shows discount)\n"
   ]
  },
  {
   "cell_type": "code",
   "execution_count": 81,
   "metadata": {},
   "outputs": [],
   "source": [
    "# Price mean by month,shop,item\n",
    "train_price = train_grp['item_price'].mean().reset_index()\n",
    "price = train_price[~train_price['item_price'].isnull()]\n",
    "\n",
    "# last price by shop,item\n",
    "last_price = price.drop_duplicates(subset=['shop_id', 'item_id'], keep='last').drop(['date_block_num'], axis=1)\n",
    "\n",
    "# null price by shop,item\n",
    "'''\n",
    "mean_price = price.groupby(['item_id'])['item_price'].mean().reset_index()\n",
    "result_price = pd.merge(test, mean_price, on=['item_id'], how='left').drop('ID', axis=1)\n",
    "pred_price_set = result_price[result_price['item_price'].isnull()]\n",
    "'''\n",
    "uitem = price['item_id'].unique()\n",
    "pred_price_set = test[~test['item_id'].isin(uitem)].drop('ID', axis=1)"
   ]
  },
  {
   "cell_type": "code",
   "execution_count": 82,
   "metadata": {},
   "outputs": [],
   "source": [
    "if len(pred_price_set) > 0:\n",
    "    train_price_set = pd.merge(price, items, on=['item_id'], how='inner')\n",
    "    pred_price_set = pd.merge(pred_price_set, items, on=['item_id'], how='inner')\n",
    "    reg = ensemble.ExtraTreesRegressor(n_estimators=25, n_jobs=-1, max_depth=15, random_state=42)\n",
    "    reg.fit(train_price_set[pred_price_set.columns], train_price_set['item_price'])\n",
    "    pred_price_set['item_price'] = reg.predict(pred_price_set)\n",
    "\n",
    "test_price = pd.concat([last_price, pred_price_set], join='inner')\n",
    "\n",
    "#test_price.head()"
   ]
  },
  {
   "cell_type": "code",
   "execution_count": 83,
   "metadata": {},
   "outputs": [],
   "source": [
    "price_max = price.groupby(['item_id']).max()['item_price'].reset_index()\n",
    "price_max.rename(columns={'item_price':'item_max_price'}, inplace=True)\n",
    "train_price_a = pd.merge(price, price_max, on=['item_id'], how='left')\n",
    "train_price_a['discount_rate'] = 1 - (train_price_a['item_price'] / train_price_a['item_max_price'])\n",
    "train_price_a.drop('item_max_price', axis=1, inplace=True)\n",
    "#train_price_a.head()"
   ]
  },
  {
   "cell_type": "code",
   "execution_count": 84,
   "metadata": {},
   "outputs": [],
   "source": [
    "test_price_a = pd.merge(test_price, price_max, on=['item_id'], how='left')\n",
    "test_price_a.loc[test_price_a['item_max_price'].isnull(), 'item_max_price'] = test_price_a['item_price']\n",
    "test_price_a['discount_rate'] = 1 - (test_price_a['item_price'] / test_price_a['item_max_price'])\n",
    "test_price_a.drop('item_max_price', axis=1, inplace=True)\n",
    "#test_price_a.head()"
   ]
  },
  {
   "cell_type": "markdown",
   "metadata": {},
   "source": [
    "# 4.Prepara dataset for training"
   ]
  },
  {
   "cell_type": "code",
   "execution_count": 93,
   "metadata": {},
   "outputs": [],
   "source": [
    "def mergeFeature(df): \n",
    "  df = pd.merge(df, items, on=['item_id'], how='left')\n",
    "  df = pd.merge(df, categories, on=['item_category_id'], how='left')\n",
    "  df = pd.merge(df, shops, on=['shop_id'], how='left')\n",
    "\n",
    "  df = pd.merge(df, train_shop, on=['shop_id','item_id'], how='left')\n",
    "  df = pd.merge(df, train_shop_cat, on=['shop_id','cat_type'], how='left')\n",
    "  df = pd.merge(df, train_prev, on=['date_block_num','shop_id','item_id'], how='left')\n",
    "  df = pd.merge(df, train_cat_prev, on=['date_block_num','shop_id','cat_type'], how='left')\n",
    "  df = pd.merge(df, train_ema_prev, on=['date_block_num','shop_id','item_id'], how='left')\n",
    "  \n",
    "  df['month'] = df['date_block_num'] % 12\n",
    "  days = pd.Series([31,28,31,30,31,30,31,31,30,31,30,31])\n",
    "  df['days'] = df['month'].map(days).astype(np.int8)\n",
    "  \n",
    "  df.drop(['shop_id','shop_name','item_id','item_category_id','item_category_name','cat_type','shop_city','shop_type'], axis=1, inplace=True)\n",
    "  df.fillna(0.0, inplace=True)\n",
    "  return df"
   ]
  },
  {
   "cell_type": "code",
   "execution_count": 94,
   "metadata": {},
   "outputs": [],
   "source": [
    "train_set = train_monthly[train_monthly['date_block_num'] >= 12]\n",
    "train_set = pd.merge(train_set, train_price_a, on=['date_block_num','shop_id','item_id'], how='left')\n"
   ]
  },
  {
   "cell_type": "code",
   "execution_count": 95,
   "metadata": {},
   "outputs": [
    {
     "data": {
      "text/html": [
       "<div>\n",
       "<style scoped>\n",
       "    .dataframe tbody tr th:only-of-type {\n",
       "        vertical-align: middle;\n",
       "    }\n",
       "\n",
       "    .dataframe tbody tr th {\n",
       "        vertical-align: top;\n",
       "    }\n",
       "\n",
       "    .dataframe thead th {\n",
       "        text-align: right;\n",
       "    }\n",
       "</style>\n",
       "<table border=\"1\" class=\"dataframe\">\n",
       "  <thead>\n",
       "    <tr style=\"text-align: right;\">\n",
       "      <th></th>\n",
       "      <th>date_block_num</th>\n",
       "      <th>item_price</th>\n",
       "      <th>discount_rate</th>\n",
       "      <th>city_code</th>\n",
       "      <th>shop_type_code</th>\n",
       "      <th>cnt_mean_shop</th>\n",
       "      <th>cnt_med_shop</th>\n",
       "      <th>cnt_std_shop</th>\n",
       "      <th>order_mean_shop</th>\n",
       "      <th>cnt_mean_shop_cat</th>\n",
       "      <th>...</th>\n",
       "      <th>order_prev12</th>\n",
       "      <th>cnt_prev_cat</th>\n",
       "      <th>cnt_ema_s_prev</th>\n",
       "      <th>cnt_ema_m_prev</th>\n",
       "      <th>cnt_ema_l_prev</th>\n",
       "      <th>cnt_macd_prev</th>\n",
       "      <th>cnt_sig_prev</th>\n",
       "      <th>month</th>\n",
       "      <th>days</th>\n",
       "      <th>item_order</th>\n",
       "    </tr>\n",
       "  </thead>\n",
       "  <tbody>\n",
       "    <tr>\n",
       "      <th>0</th>\n",
       "      <td>12</td>\n",
       "      <td>0.0</td>\n",
       "      <td>0.000000</td>\n",
       "      <td>0</td>\n",
       "      <td>5</td>\n",
       "      <td>0.117647</td>\n",
       "      <td>0.0</td>\n",
       "      <td>0.327035</td>\n",
       "      <td>1.000000</td>\n",
       "      <td>0.038727</td>\n",
       "      <td>...</td>\n",
       "      <td>1.0</td>\n",
       "      <td>0.039588</td>\n",
       "      <td>0.022743</td>\n",
       "      <td>0.104790</td>\n",
       "      <td>0.138890</td>\n",
       "      <td>-0.116147</td>\n",
       "      <td>-0.116147</td>\n",
       "      <td>0</td>\n",
       "      <td>31</td>\n",
       "      <td>1</td>\n",
       "    </tr>\n",
       "    <tr>\n",
       "      <th>1</th>\n",
       "      <td>12</td>\n",
       "      <td>0.0</td>\n",
       "      <td>0.000000</td>\n",
       "      <td>0</td>\n",
       "      <td>5</td>\n",
       "      <td>0.235294</td>\n",
       "      <td>0.0</td>\n",
       "      <td>0.740959</td>\n",
       "      <td>1.088235</td>\n",
       "      <td>0.038727</td>\n",
       "      <td>...</td>\n",
       "      <td>1.0</td>\n",
       "      <td>0.039588</td>\n",
       "      <td>0.020469</td>\n",
       "      <td>0.220062</td>\n",
       "      <td>0.355486</td>\n",
       "      <td>-0.335018</td>\n",
       "      <td>-0.237742</td>\n",
       "      <td>0</td>\n",
       "      <td>31</td>\n",
       "      <td>1</td>\n",
       "    </tr>\n",
       "    <tr>\n",
       "      <th>2</th>\n",
       "      <td>12</td>\n",
       "      <td>119.0</td>\n",
       "      <td>0.659026</td>\n",
       "      <td>0</td>\n",
       "      <td>5</td>\n",
       "      <td>0.323529</td>\n",
       "      <td>0.0</td>\n",
       "      <td>0.638207</td>\n",
       "      <td>1.088235</td>\n",
       "      <td>0.038727</td>\n",
       "      <td>...</td>\n",
       "      <td>1.0</td>\n",
       "      <td>0.039588</td>\n",
       "      <td>0.000000</td>\n",
       "      <td>0.000000</td>\n",
       "      <td>0.000000</td>\n",
       "      <td>0.000000</td>\n",
       "      <td>-0.140307</td>\n",
       "      <td>0</td>\n",
       "      <td>31</td>\n",
       "      <td>1</td>\n",
       "    </tr>\n",
       "    <tr>\n",
       "      <th>3</th>\n",
       "      <td>12</td>\n",
       "      <td>199.0</td>\n",
       "      <td>0.601202</td>\n",
       "      <td>0</td>\n",
       "      <td>5</td>\n",
       "      <td>0.323529</td>\n",
       "      <td>0.0</td>\n",
       "      <td>0.534880</td>\n",
       "      <td>1.029412</td>\n",
       "      <td>0.038727</td>\n",
       "      <td>...</td>\n",
       "      <td>1.0</td>\n",
       "      <td>0.039588</td>\n",
       "      <td>0.883374</td>\n",
       "      <td>0.506989</td>\n",
       "      <td>0.403090</td>\n",
       "      <td>0.480284</td>\n",
       "      <td>0.069921</td>\n",
       "      <td>0</td>\n",
       "      <td>31</td>\n",
       "      <td>1</td>\n",
       "    </tr>\n",
       "    <tr>\n",
       "      <th>4</th>\n",
       "      <td>12</td>\n",
       "      <td>0.0</td>\n",
       "      <td>0.000000</td>\n",
       "      <td>0</td>\n",
       "      <td>5</td>\n",
       "      <td>0.000000</td>\n",
       "      <td>0.0</td>\n",
       "      <td>0.000000</td>\n",
       "      <td>1.000000</td>\n",
       "      <td>0.038727</td>\n",
       "      <td>...</td>\n",
       "      <td>1.0</td>\n",
       "      <td>0.039588</td>\n",
       "      <td>0.000000</td>\n",
       "      <td>0.000000</td>\n",
       "      <td>0.000000</td>\n",
       "      <td>0.000000</td>\n",
       "      <td>0.049121</td>\n",
       "      <td>0</td>\n",
       "      <td>31</td>\n",
       "      <td>1</td>\n",
       "    </tr>\n",
       "  </tbody>\n",
       "</table>\n",
       "<p>5 rows × 25 columns</p>\n",
       "</div>"
      ],
      "text/plain": [
       "   date_block_num  item_price  discount_rate  city_code  shop_type_code  \\\n",
       "0              12         0.0       0.000000          0               5   \n",
       "1              12         0.0       0.000000          0               5   \n",
       "2              12       119.0       0.659026          0               5   \n",
       "3              12       199.0       0.601202          0               5   \n",
       "4              12         0.0       0.000000          0               5   \n",
       "\n",
       "   cnt_mean_shop  cnt_med_shop  cnt_std_shop  order_mean_shop  \\\n",
       "0       0.117647           0.0      0.327035         1.000000   \n",
       "1       0.235294           0.0      0.740959         1.088235   \n",
       "2       0.323529           0.0      0.638207         1.088235   \n",
       "3       0.323529           0.0      0.534880         1.029412   \n",
       "4       0.000000           0.0      0.000000         1.000000   \n",
       "\n",
       "   cnt_mean_shop_cat  ...  order_prev12  cnt_prev_cat  cnt_ema_s_prev  \\\n",
       "0           0.038727  ...           1.0      0.039588        0.022743   \n",
       "1           0.038727  ...           1.0      0.039588        0.020469   \n",
       "2           0.038727  ...           1.0      0.039588        0.000000   \n",
       "3           0.038727  ...           1.0      0.039588        0.883374   \n",
       "4           0.038727  ...           1.0      0.039588        0.000000   \n",
       "\n",
       "   cnt_ema_m_prev  cnt_ema_l_prev  cnt_macd_prev  cnt_sig_prev  month  days  \\\n",
       "0        0.104790        0.138890      -0.116147     -0.116147      0    31   \n",
       "1        0.220062        0.355486      -0.335018     -0.237742      0    31   \n",
       "2        0.000000        0.000000       0.000000     -0.140307      0    31   \n",
       "3        0.506989        0.403090       0.480284      0.069921      0    31   \n",
       "4        0.000000        0.000000       0.000000      0.049121      0    31   \n",
       "\n",
       "   item_order  \n",
       "0           1  \n",
       "1           1  \n",
       "2           1  \n",
       "3           1  \n",
       "4           1  \n",
       "\n",
       "[5 rows x 25 columns]"
      ]
     },
     "execution_count": 95,
     "metadata": {},
     "output_type": "execute_result"
    }
   ],
   "source": [
    "train_set = mergeFeature(train_set)\n",
    "train_set = train_set.join(pd.DataFrame(train_set.pop('item_order'))) # move to last column\n",
    "X_train = train_set.drop(['item_cnt'], axis=1)\n",
    "#Y_train = train_set['item_cnt']\n",
    "Y_train = train_set['item_cnt'].clip(0.,20.)\n",
    "X_train.head()"
   ]
  },
  {
   "cell_type": "code",
   "execution_count": 96,
   "metadata": {},
   "outputs": [],
   "source": [
    "##add external macroeconomic features\n",
    "X_train['moex'] = X_train['date_block_num'].map(moex)\n",
    "X_train['ruble_dollar'] = X_train['date_block_num'].map(ruble_dollar)"
   ]
  },
  {
   "cell_type": "markdown",
   "metadata": {},
   "source": [
    "Use the customized downcast function here: save nearly 50% memory of dataframe"
   ]
  },
  {
   "cell_type": "code",
   "execution_count": 97,
   "metadata": {},
   "outputs": [],
   "source": [
    "X_train = downcast_dtypes(X_train)"
   ]
  },
  {
   "cell_type": "markdown",
   "metadata": {},
   "source": []
  },
  {
   "cell_type": "code",
   "execution_count": 98,
   "metadata": {},
   "outputs": [
    {
     "data": {
      "text/html": [
       "<div>\n",
       "<style scoped>\n",
       "    .dataframe tbody tr th:only-of-type {\n",
       "        vertical-align: middle;\n",
       "    }\n",
       "\n",
       "    .dataframe tbody tr th {\n",
       "        vertical-align: top;\n",
       "    }\n",
       "\n",
       "    .dataframe thead th {\n",
       "        text-align: right;\n",
       "    }\n",
       "</style>\n",
       "<table border=\"1\" class=\"dataframe\">\n",
       "  <thead>\n",
       "    <tr style=\"text-align: right;\">\n",
       "      <th></th>\n",
       "      <th>date_block_num</th>\n",
       "      <th>item_price</th>\n",
       "      <th>discount_rate</th>\n",
       "      <th>city_code</th>\n",
       "      <th>shop_type_code</th>\n",
       "      <th>cnt_mean_shop</th>\n",
       "      <th>cnt_med_shop</th>\n",
       "      <th>cnt_std_shop</th>\n",
       "      <th>order_mean_shop</th>\n",
       "      <th>cnt_mean_shop_cat</th>\n",
       "      <th>...</th>\n",
       "      <th>cnt_ema_s_prev</th>\n",
       "      <th>cnt_ema_m_prev</th>\n",
       "      <th>cnt_ema_l_prev</th>\n",
       "      <th>cnt_macd_prev</th>\n",
       "      <th>cnt_sig_prev</th>\n",
       "      <th>month</th>\n",
       "      <th>days</th>\n",
       "      <th>item_order</th>\n",
       "      <th>moex</th>\n",
       "      <th>ruble_dollar</th>\n",
       "    </tr>\n",
       "  </thead>\n",
       "  <tbody>\n",
       "    <tr>\n",
       "      <th>0</th>\n",
       "      <td>34</td>\n",
       "      <td>749.500000</td>\n",
       "      <td>7.116199e-01</td>\n",
       "      <td>3</td>\n",
       "      <td>4</td>\n",
       "      <td>0.382353</td>\n",
       "      <td>0.0</td>\n",
       "      <td>0.739152</td>\n",
       "      <td>1.117647</td>\n",
       "      <td>0.274392</td>\n",
       "      <td>...</td>\n",
       "      <td>0.856217</td>\n",
       "      <td>0.870737</td>\n",
       "      <td>0.673720</td>\n",
       "      <td>0.182497</td>\n",
       "      <td>-0.211641</td>\n",
       "      <td>10</td>\n",
       "      <td>30</td>\n",
       "      <td>0.856217</td>\n",
       "      <td>723</td>\n",
       "      <td>65.083095</td>\n",
       "    </tr>\n",
       "    <tr>\n",
       "      <th>1</th>\n",
       "      <td>34</td>\n",
       "      <td>309.681189</td>\n",
       "      <td>-2.099143e-08</td>\n",
       "      <td>3</td>\n",
       "      <td>4</td>\n",
       "      <td>0.000000</td>\n",
       "      <td>0.0</td>\n",
       "      <td>0.000000</td>\n",
       "      <td>1.000000</td>\n",
       "      <td>0.093711</td>\n",
       "      <td>...</td>\n",
       "      <td>0.000000</td>\n",
       "      <td>0.000000</td>\n",
       "      <td>0.000000</td>\n",
       "      <td>0.000000</td>\n",
       "      <td>-0.216406</td>\n",
       "      <td>10</td>\n",
       "      <td>30</td>\n",
       "      <td>1.000000</td>\n",
       "      <td>723</td>\n",
       "      <td>65.083095</td>\n",
       "    </tr>\n",
       "    <tr>\n",
       "      <th>2</th>\n",
       "      <td>34</td>\n",
       "      <td>1199.000000</td>\n",
       "      <td>0.000000e+00</td>\n",
       "      <td>3</td>\n",
       "      <td>4</td>\n",
       "      <td>0.294118</td>\n",
       "      <td>0.0</td>\n",
       "      <td>0.798841</td>\n",
       "      <td>1.117647</td>\n",
       "      <td>0.274392</td>\n",
       "      <td>...</td>\n",
       "      <td>1.460992</td>\n",
       "      <td>1.015923</td>\n",
       "      <td>0.651031</td>\n",
       "      <td>0.809961</td>\n",
       "      <td>0.146857</td>\n",
       "      <td>10</td>\n",
       "      <td>30</td>\n",
       "      <td>1.460992</td>\n",
       "      <td>723</td>\n",
       "      <td>65.083095</td>\n",
       "    </tr>\n",
       "    <tr>\n",
       "      <th>3</th>\n",
       "      <td>34</td>\n",
       "      <td>599.000000</td>\n",
       "      <td>5.004170e-01</td>\n",
       "      <td>3</td>\n",
       "      <td>4</td>\n",
       "      <td>0.029412</td>\n",
       "      <td>0.0</td>\n",
       "      <td>0.171499</td>\n",
       "      <td>1.000000</td>\n",
       "      <td>0.274392</td>\n",
       "      <td>...</td>\n",
       "      <td>0.144000</td>\n",
       "      <td>0.110528</td>\n",
       "      <td>0.068511</td>\n",
       "      <td>0.075489</td>\n",
       "      <td>-0.018919</td>\n",
       "      <td>10</td>\n",
       "      <td>30</td>\n",
       "      <td>0.144000</td>\n",
       "      <td>723</td>\n",
       "      <td>65.083095</td>\n",
       "    </tr>\n",
       "    <tr>\n",
       "      <th>4</th>\n",
       "      <td>34</td>\n",
       "      <td>2163.366329</td>\n",
       "      <td>-5.459599e-08</td>\n",
       "      <td>3</td>\n",
       "      <td>4</td>\n",
       "      <td>0.000000</td>\n",
       "      <td>0.0</td>\n",
       "      <td>0.000000</td>\n",
       "      <td>1.000000</td>\n",
       "      <td>0.274392</td>\n",
       "      <td>...</td>\n",
       "      <td>0.000000</td>\n",
       "      <td>0.000000</td>\n",
       "      <td>0.000000</td>\n",
       "      <td>0.000000</td>\n",
       "      <td>-0.033769</td>\n",
       "      <td>10</td>\n",
       "      <td>30</td>\n",
       "      <td>1.000000</td>\n",
       "      <td>723</td>\n",
       "      <td>65.083095</td>\n",
       "    </tr>\n",
       "  </tbody>\n",
       "</table>\n",
       "<p>5 rows × 27 columns</p>\n",
       "</div>"
      ],
      "text/plain": [
       "   date_block_num   item_price  discount_rate  city_code  shop_type_code  \\\n",
       "0              34   749.500000   7.116199e-01          3               4   \n",
       "1              34   309.681189  -2.099143e-08          3               4   \n",
       "2              34  1199.000000   0.000000e+00          3               4   \n",
       "3              34   599.000000   5.004170e-01          3               4   \n",
       "4              34  2163.366329  -5.459599e-08          3               4   \n",
       "\n",
       "   cnt_mean_shop  cnt_med_shop  cnt_std_shop  order_mean_shop  \\\n",
       "0       0.382353           0.0      0.739152         1.117647   \n",
       "1       0.000000           0.0      0.000000         1.000000   \n",
       "2       0.294118           0.0      0.798841         1.117647   \n",
       "3       0.029412           0.0      0.171499         1.000000   \n",
       "4       0.000000           0.0      0.000000         1.000000   \n",
       "\n",
       "   cnt_mean_shop_cat  ...  cnt_ema_s_prev  cnt_ema_m_prev  cnt_ema_l_prev  \\\n",
       "0           0.274392  ...        0.856217        0.870737        0.673720   \n",
       "1           0.093711  ...        0.000000        0.000000        0.000000   \n",
       "2           0.274392  ...        1.460992        1.015923        0.651031   \n",
       "3           0.274392  ...        0.144000        0.110528        0.068511   \n",
       "4           0.274392  ...        0.000000        0.000000        0.000000   \n",
       "\n",
       "   cnt_macd_prev  cnt_sig_prev  month  days  item_order  moex  ruble_dollar  \n",
       "0       0.182497     -0.211641     10    30    0.856217   723     65.083095  \n",
       "1       0.000000     -0.216406     10    30    1.000000   723     65.083095  \n",
       "2       0.809961      0.146857     10    30    1.460992   723     65.083095  \n",
       "3       0.075489     -0.018919     10    30    0.144000   723     65.083095  \n",
       "4       0.000000     -0.033769     10    30    1.000000   723     65.083095  \n",
       "\n",
       "[5 rows x 27 columns]"
      ]
     },
     "execution_count": 98,
     "metadata": {},
     "output_type": "execute_result"
    }
   ],
   "source": [
    "test_set = test.copy()\n",
    "test_set['date_block_num'] = 34\n",
    "\n",
    "test_set = pd.merge(test_set, test_price_a, on=['shop_id','item_id'], how='left')\n",
    "test_set = mergeFeature(test_set)\n",
    "\n",
    "test_set['item_order'] = test_set['cnt_ema_s_prev'] #order_prev\n",
    "test_set.loc[test_set['item_order'] == 0, 'item_order'] = 1\n",
    "\n",
    "X_test = test_set.drop(['ID'], axis=1)\n",
    "\n",
    "X_test['moex'] = X_test['date_block_num'].map(moex)\n",
    "X_test['ruble_dollar'] = X_test['date_block_num'].map(ruble_dollar)\n",
    "\n",
    "X_test.head()\n",
    "\n",
    "# assert(X_train.columns.isin(X_test.columns).all())"
   ]
  },
  {
   "cell_type": "markdown",
   "metadata": {},
   "source": [
    "# 5.Modeling\n",
    "\n",
    "#### 1.Method: lightboosting regressor (lgb.LGBMRegressor)\n",
    "#### 2.Evaluation metrics : RMSE (for time series data, use block to do the cross validation, both group cross validation or time series split can work here)"
   ]
  },
  {
   "cell_type": "code",
   "execution_count": 99,
   "metadata": {
    "scrolled": true
   },
   "outputs": [
    {
     "name": "stdout",
     "output_type": "stream",
     "text": [
      "Training until validation scores don't improve for 50 rounds\n",
      "[500]\tvalid_0's rmse: 0.209276\n",
      "[1000]\tvalid_0's rmse: 0.207348\n",
      "Early stopping, best iteration is:\n",
      "[1389]\tvalid_0's rmse: 0.206563\n",
      "Training until validation scores don't improve for 50 rounds\n",
      "[500]\tvalid_0's rmse: 0.205525\n",
      "Early stopping, best iteration is:\n",
      "[785]\tvalid_0's rmse: 0.204234\n",
      "Training until validation scores don't improve for 50 rounds\n",
      "[500]\tvalid_0's rmse: 0.209022\n",
      "[1000]\tvalid_0's rmse: 0.207292\n",
      "[1500]\tvalid_0's rmse: 0.206342\n",
      "Early stopping, best iteration is:\n",
      "[1457]\tvalid_0's rmse: 0.206296\n",
      "Training until validation scores don't improve for 50 rounds\n",
      "[500]\tvalid_0's rmse: 0.185658\n",
      "Early stopping, best iteration is:\n",
      "[592]\tvalid_0's rmse: 0.185361\n",
      "Training until validation scores don't improve for 50 rounds\n",
      "[500]\tvalid_0's rmse: 0.158006\n",
      "[1000]\tvalid_0's rmse: 0.156686\n",
      "Early stopping, best iteration is:\n",
      "[973]\tvalid_0's rmse: 0.156645\n",
      "Training until validation scores don't improve for 50 rounds\n",
      "[500]\tvalid_0's rmse: 0.187337\n",
      "Early stopping, best iteration is:\n",
      "[675]\tvalid_0's rmse: 0.186625\n"
     ]
    }
   ],
   "source": [
    "params={'learning_rate': 0.05,\n",
    "        'objective':'regression',\n",
    "        'metric':'rmse',\n",
    "        'num_leaves': 50,\n",
    "        'verbose': 1,\n",
    "        'random_state':123,\n",
    "        'bagging_fraction': 1,\n",
    "        'feature_fraction': 1\n",
    "       }\n",
    "\n",
    "\n",
    "folds = GroupKFold(n_splits=6)\n",
    "oof_preds = np.zeros(X_train.shape[0])\n",
    "sub_preds = np.zeros(X_test.shape[0])\n",
    "\n",
    "for fold_, (trn_, val_) in enumerate(folds.split(X_train, Y_train, X_train['date_block_num'])):\n",
    "    trn_x, trn_y = X_train.iloc[trn_], Y_train[trn_]\n",
    "    val_x, val_y = X_train.iloc[val_], Y_train[val_]\n",
    "\n",
    "    reg = lgb.LGBMRegressor(**params, n_estimators=3000)\n",
    "    reg.fit(trn_x, trn_y, eval_set=[(val_x, val_y)], early_stopping_rounds=50, verbose=500)\n",
    "    \n",
    "    oof_preds[val_] = reg.predict(val_x.values, num_iteration=reg.best_iteration_)\n",
    "    sub_preds += reg.predict(X_test.values, num_iteration=reg.best_iteration_) / folds.n_splits\n"
   ]
  },
  {
   "cell_type": "markdown",
   "metadata": {},
   "source": [
    "# Plotting for feature importance"
   ]
  },
  {
   "cell_type": "code",
   "execution_count": 184,
   "metadata": {
    "scrolled": true
   },
   "outputs": [
    {
     "data": {
      "image/png": "[encoded data removed]",
      "text/plain": [
       "<Figure size 864x432 with 1 Axes>"
      ]
     },
     "metadata": {
      "needs_background": "light"
     },
     "output_type": "display_data"
    }
   ],
   "source": [
    "feature_importance = reg.feature_importances_\n",
    "feature_importance = 100.0 * (feature_importance / feature_importance.max())\n",
    "sorted_idx = np.argsort(feature_importance)\n",
    "pos = np.arange(sorted_idx.shape[0]) + .5\n",
    "\n",
    "plt.figure(figsize=(12,6))\n",
    "plt.barh(pos, feature_importance[sorted_idx], align='center')\n",
    "plt.yticks(pos, X_train.columns[sorted_idx])\n",
    "plt.xlabel('Relative Importance')\n",
    "plt.title('Variable Importance')\n",
    "plt.show()"
   ]
  },
  {
   "cell_type": "markdown",
   "metadata": {},
   "source": [
    "# Prediction for feature sales\n",
    "\n",
    "### compare with last month / last year in the same month\n",
    "\n",
    "It is collected in another try out python script, and due to time limitation(Modeling iteration needs too long to train the result, I will use the result in another python script to give business insights in terms of prediction."
   ]
  },
  {
   "cell_type": "code",
   "execution_count": 139,
   "metadata": {},
   "outputs": [],
   "source": [
    "# X_test.head()\n",
    "# X_result = X_test.copy()\n",
    "# X_result['sales'] = sub_preds\n",
    "# grouped=X_result[['sales','city_code']].groupby(by='city_code').sum().reset_index()\n",
    "# last_month = train_set[train_set['date_block_num']==33].copy()\n",
    "# lastyear_Nov = train_set[train_set['date_block_num']==22].copy()\n",
    "# last_month_city = last_month.groupby(by='city_code').sum().reset_index()[['city_code','item_cnt']]\n",
    "# last_year_city = lastyear_Nov.groupby(by='city_code').sum().reset_index()[['city_code','item_cnt']]\n",
    "# group_city = pd.merge(grouped, last_month_city, on=['city_code'], how='left')\n",
    "# group_city = pd.merge(group_city, last_year_city , on=['city_code'], how='left')\n",
    "# grouped.plot.bar(x = 'city_code',y = 'sales',figsize=(20,4))"
   ]
  }
 ],
 "metadata": {
  "kernelspec": {
   "display_name": "Python 3",
   "language": "python",
   "name": "python3"
  },
  "language_info": {
   "codemirror_mode": {
    "name": "ipython",
    "version": 3
   },
   "file_extension": ".py",
   "mimetype": "text/x-python",
   "name": "python",
   "nbconvert_exporter": "python",
   "pygments_lexer": "ipython3",
   "version": "3.7.3"
  }
 },
 "nbformat": 4,
 "nbformat_minor": 2
}
